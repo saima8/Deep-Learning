{
  "nbformat": 4,
  "nbformat_minor": 0,
  "metadata": {
    "kernelspec": {
      "language": "python",
      "display_name": "Python 3",
      "name": "python3"
    },
    "language_info": {
      "name": "python",
      "version": "3.7.10",
      "mimetype": "text/x-python",
      "codemirror_mode": {
        "name": "ipython",
        "version": 3
      },
      "pygments_lexer": "ipython3",
      "nbconvert_exporter": "python",
      "file_extension": ".py"
    },
    "colab": {
      "name": "notebook.ipynb",
      "provenance": [],
      "include_colab_link": true
    }
  },
  "cells": [
    {
      "cell_type": "markdown",
      "metadata": {
        "id": "view-in-github",
        "colab_type": "text"
      },
      "source": [
        "<a href=\"https://colab.research.google.com/github/saima8/Deep-Learning/blob/main/notebook.ipynb\" target=\"_parent\"><img src=\"https://colab.research.google.com/assets/colab-badge.svg\" alt=\"Open In Colab\"/></a>"
      ]
    },
    {
      "cell_type": "code",
      "metadata": {
        "execution": {
          "iopub.status.busy": "2021-08-27T11:38:13.339075Z",
          "iopub.execute_input": "2021-08-27T11:38:13.339670Z",
          "iopub.status.idle": "2021-08-27T11:38:14.805616Z",
          "shell.execute_reply.started": "2021-08-27T11:38:13.339564Z",
          "shell.execute_reply": "2021-08-27T11:38:14.804540Z"
        },
        "trusted": true,
        "id": "9yX3dt2V2lEp"
      },
      "source": [
        "import os\n",
        "import string\n",
        "\n",
        "import numpy as np\n",
        "import torch\n",
        "import torch.nn as nn\n",
        "from torch.nn import functional as F\n",
        "from torch.optim import Adam\n",
        "from torch.utils.data import Dataset, DataLoader\n",
        "from torch.utils.data.sampler import SubsetRandomSampler\n",
        "\n",
        "import torchvision\n",
        "from torchvision.datasets import CIFAR10\n",
        "from torchvision import transforms\n",
        "from torchvision.transforms import ToTensor, Normalize"
      ],
      "execution_count": null,
      "outputs": []
    },
    {
      "cell_type": "code",
      "metadata": {
        "execution": {
          "iopub.status.busy": "2021-08-27T11:38:21.015157Z",
          "iopub.execute_input": "2021-08-27T11:38:21.015526Z",
          "iopub.status.idle": "2021-08-27T11:38:21.021462Z",
          "shell.execute_reply.started": "2021-08-27T11:38:21.015496Z",
          "shell.execute_reply": "2021-08-27T11:38:21.020573Z"
        },
        "trusted": true,
        "id": "hXUJh0jP2lEr",
        "outputId": "91d72ba6-04b2-4106-f536-99619c89a8de"
      },
      "source": [
        "print('Current Directory: ', os.getcwd())\n",
        "print('Directories in Parent Directory: ', os.listdir('../'))"
      ],
      "execution_count": null,
      "outputs": [
        {
          "name": "stdout",
          "text": "Current Directory:  /kaggle/working\nDirectories in Parent Directory:  ['lib', 'input', 'working']\n",
          "output_type": "stream"
        }
      ]
    },
    {
      "cell_type": "code",
      "metadata": {
        "execution": {
          "iopub.status.busy": "2021-08-27T11:38:21.989796Z",
          "iopub.execute_input": "2021-08-27T11:38:21.990155Z",
          "iopub.status.idle": "2021-08-27T11:38:21.994308Z",
          "shell.execute_reply.started": "2021-08-27T11:38:21.990124Z",
          "shell.execute_reply": "2021-08-27T11:38:21.993566Z"
        },
        "trusted": true,
        "id": "-sEJZOos2lEs",
        "outputId": "ea65fd27-667d-4acb-e904-502e19830dc5"
      },
      "source": [
        "input_directory = '../input'\n",
        "print('Directories in Input Directory: ', os.listdir(input_directory))"
      ],
      "execution_count": null,
      "outputs": [
        {
          "name": "stdout",
          "text": "Directories in Input Directory:  ['asl-alphabet']\n",
          "output_type": "stream"
        }
      ]
    },
    {
      "cell_type": "code",
      "metadata": {
        "execution": {
          "iopub.status.busy": "2021-08-27T11:38:31.915938Z",
          "iopub.execute_input": "2021-08-27T11:38:31.916308Z",
          "iopub.status.idle": "2021-08-27T11:38:31.920393Z",
          "shell.execute_reply.started": "2021-08-27T11:38:31.916277Z",
          "shell.execute_reply": "2021-08-27T11:38:31.919623Z"
        },
        "trusted": true,
        "id": "Y6gsmw7A2lEt"
      },
      "source": [
        "asl_directory = '../input/asl-alphabet'\n",
        "train_directory = '../input/asl-alphabet/asl_alphabet_train/asl_alphabet_train'\n",
        "test_directory = '../input/asl-alphabet/asl_alphabet_test/asl_alphabet_test'"
      ],
      "execution_count": null,
      "outputs": []
    },
    {
      "cell_type": "code",
      "metadata": {
        "execution": {
          "iopub.status.busy": "2021-08-27T11:40:35.620647Z",
          "iopub.execute_input": "2021-08-27T11:40:35.621030Z",
          "iopub.status.idle": "2021-08-27T11:40:35.634235Z",
          "shell.execute_reply.started": "2021-08-27T11:40:35.620998Z",
          "shell.execute_reply": "2021-08-27T11:40:35.633315Z"
        },
        "trusted": true,
        "id": "hJ21rZlh2lEt"
      },
      "source": [
        "class ASLDatasetTest(Dataset):\n",
        "    char_to_int = {c: ord(c) - ord('A') for c in string.ascii_uppercase}\n",
        "    char_to_int['del'] = 26\n",
        "    char_to_int['nothing'] = 27\n",
        "    char_to_int['space'] = 28\n",
        "    int_to_char = {value: key for key, value in char_to_int.items()}\n",
        "        \n",
        "    def __init__(self, directory: str, transform=None, label_transform=None):\n",
        "        super().__init__()        \n",
        "        self.directory = directory\n",
        "        self.transform = transform\n",
        "        self.label_transform = label_transform        \n",
        "        self.x = None\n",
        "        self.y = None\n",
        "        self._load_images()\n",
        "    \n",
        "    def __getitem__(self, idx):\n",
        "        x, y = torchvision.io.read_image(self.x[idx]).type(torch.float32), self.y[idx]\n",
        "        if self.transform:\n",
        "            x = self.transform(x)\n",
        "        if self.label_transform:\n",
        "            y = self.label_transform(y)\n",
        "        return x, y\n",
        "    \n",
        "    def __len__(self):\n",
        "        return len(self.y)\n",
        "    \n",
        "    def _load_images(self):\n",
        "        self.x = []\n",
        "        self.y = []\n",
        "        for img in os.listdir(self.directory):\n",
        "            class_name = img[:1]\n",
        "            if 'nothing' in img:\n",
        "                class_name = 'nothing'\n",
        "            elif 'space' in img:\n",
        "                class_name = 'space'\n",
        "            elif 'del' in img:\n",
        "                class_name = 'del'\n",
        "            self.x.append(os.path.join(self.directory, img))\n",
        "            self.y.append(self.char_to_int[class_name])\n",
        "        self.y = torch.tensor(self.y, dtype=torch.int64)\n",
        "    \n",
        "    @staticmethod\n",
        "    def get_classname(idx: int) -> str:\n",
        "        return ASLDataset.int_to_char[idx]"
      ],
      "execution_count": null,
      "outputs": []
    },
    {
      "cell_type": "code",
      "metadata": {
        "execution": {
          "iopub.status.busy": "2021-08-27T11:42:34.466384Z",
          "iopub.execute_input": "2021-08-27T11:42:34.466801Z",
          "iopub.status.idle": "2021-08-27T11:42:34.481672Z",
          "shell.execute_reply.started": "2021-08-27T11:42:34.466768Z",
          "shell.execute_reply": "2021-08-27T11:42:34.480850Z"
        },
        "trusted": true,
        "id": "J_QKqNd62lEt"
      },
      "source": [
        "class ASLDataset(Dataset):\n",
        "    char_to_int = {c: ord(c) - ord('A') for c in string.ascii_uppercase}\n",
        "    char_to_int['del'] = 26\n",
        "    char_to_int['nothing'] = 27\n",
        "    char_to_int['space'] = 28\n",
        "    int_to_char = {value: key for key, value in char_to_int.items()}\n",
        "        \n",
        "    def __init__(self, directory: str, transform=None, label_transform=None):\n",
        "        super().__init__()\n",
        "        \n",
        "        self.directory = directory\n",
        "        self.transform = transform\n",
        "        self.label_transform = label_transform\n",
        "        \n",
        "        self.x = None\n",
        "        self.y = None\n",
        "        self._load_images()\n",
        "    \n",
        "    def __getitem__(self, idx):\n",
        "        x, y = torchvision.io.read_image(self.x[idx]).type(torch.float32), self.y[idx]\n",
        "        \n",
        "        if self.transform:\n",
        "            x = self.transform(x)\n",
        "        if self.label_transform:\n",
        "            y = self.label_transform(y)\n",
        "        \n",
        "        return x, y\n",
        "    \n",
        "    def __len__(self):\n",
        "        return len(self.y)\n",
        "    \n",
        "    def _load_images(self):\n",
        "        self.x = []\n",
        "        self.y = []\n",
        "        \n",
        "        for c in os.listdir(self.directory):\n",
        "            class_name = c\n",
        "            class_dir = os.path.join(self.directory, class_name)\n",
        "            for img in os.listdir(class_dir):\n",
        "                self.x.append(os.path.join(class_dir, img))\n",
        "                self.y.append(self.char_to_int[class_name])\n",
        "                \n",
        "        self.y = torch.tensor(self.y, dtype=torch.int64)\n",
        "    \n",
        "    @staticmethod\n",
        "    def get_classname(idx: int) -> str:\n",
        "        return ASLDataset.int_to_char[idx]"
      ],
      "execution_count": null,
      "outputs": []
    },
    {
      "cell_type": "code",
      "metadata": {
        "id": "WusYAsTf2lEu"
      },
      "source": [
        ""
      ],
      "execution_count": null,
      "outputs": []
    },
    {
      "cell_type": "code",
      "metadata": {
        "execution": {
          "iopub.status.busy": "2021-08-27T11:42:34.975213Z",
          "iopub.execute_input": "2021-08-27T11:42:34.975603Z",
          "iopub.status.idle": "2021-08-27T11:42:34.980721Z",
          "shell.execute_reply.started": "2021-08-27T11:42:34.975568Z",
          "shell.execute_reply": "2021-08-27T11:42:34.979777Z"
        },
        "trusted": true,
        "id": "WqCw9ogL2lEu"
      },
      "source": [
        "ts = transforms.Compose([\n",
        "    transforms.Resize(256),\n",
        "    transforms.RandomCrop(224),\n",
        "    transforms.Normalize((0.485, 0.456, 0.406), (0.229, 0.224, 0.225))\n",
        "])"
      ],
      "execution_count": null,
      "outputs": []
    },
    {
      "cell_type": "code",
      "metadata": {
        "execution": {
          "iopub.status.busy": "2021-08-27T11:42:50.693475Z",
          "iopub.execute_input": "2021-08-27T11:42:50.693865Z",
          "iopub.status.idle": "2021-08-27T11:42:50.955275Z",
          "shell.execute_reply.started": "2021-08-27T11:42:50.693829Z",
          "shell.execute_reply": "2021-08-27T11:42:50.954240Z"
        },
        "trusted": true,
        "id": "eSsSJq522lEu"
      },
      "source": [
        "asl_train = ASLDataset('../input/asl-alphabet/asl_alphabet_train/asl_alphabet_train', transform=ts)\n",
        "asl_test = ASLDatasetTest('../input/asl-alphabet/asl_alphabet_test/asl_alphabet_test', transform=ts)"
      ],
      "execution_count": null,
      "outputs": []
    },
    {
      "cell_type": "code",
      "metadata": {
        "id": "R5P8khgX2lEv"
      },
      "source": [
        ""
      ],
      "execution_count": null,
      "outputs": []
    },
    {
      "cell_type": "code",
      "metadata": {
        "id": "9N5AyjR32lEv"
      },
      "source": [
        ""
      ],
      "execution_count": null,
      "outputs": []
    }
  ]
}