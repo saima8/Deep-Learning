{
  "nbformat": 4,
  "nbformat_minor": 5,
  "metadata": {
    "kernelspec": {
      "display_name": "Python 3 (ipykernel)",
      "language": "python",
      "name": "python3"
    },
    "language_info": {
      "codemirror_mode": {
        "name": "ipython",
        "version": 3
      },
      "file_extension": ".py",
      "mimetype": "text/x-python",
      "name": "python",
      "nbconvert_exporter": "python",
      "pygments_lexer": "ipython3",
      "version": "3.8.10"
    },
    "colab": {
      "name": "Lab6.ipynb",
      "provenance": [],
      "include_colab_link": true
    }
  },
  "cells": [
    {
      "cell_type": "markdown",
      "metadata": {
        "id": "view-in-github",
        "colab_type": "text"
      },
      "source": [
        "<a href=\"https://colab.research.google.com/github/saima8/Deep-Learning/blob/main/Lab6.ipynb\" target=\"_parent\"><img src=\"https://colab.research.google.com/assets/colab-badge.svg\" alt=\"Open In Colab\"/></a>"
      ]
    },
    {
      "cell_type": "markdown",
      "metadata": {
        "id": "9e95a393"
      },
      "source": [
        "# Lab VI"
      ],
      "id": "9e95a393"
    },
    {
      "cell_type": "code",
      "metadata": {
        "id": "68da4564"
      },
      "source": [
        "import numpy as np\n",
        "import torch"
      ],
      "id": "68da4564",
      "execution_count": null,
      "outputs": []
    },
    {
      "cell_type": "markdown",
      "metadata": {
        "id": "0f6a8899"
      },
      "source": [
        "# Tensors"
      ],
      "id": "0f6a8899"
    },
    {
      "cell_type": "markdown",
      "metadata": {
        "id": "91bd6922"
      },
      "source": [
        "*Tensor is a n-dimensional array, it means that it can have any number of dimensions.NumPy `ndarray` can not be loaded into GPUs. However, `tensor`s can do so.*"
      ],
      "id": "91bd6922"
    },
    {
      "cell_type": "code",
      "metadata": {
        "colab": {
          "base_uri": "https://localhost:8080/"
        },
        "id": "558e18aa",
        "outputId": "af6506ac-1d30-471e-e916-d10e8dd9af9b"
      },
      "source": [
        "x = torch.tensor(4.)\n",
        "x"
      ],
      "id": "558e18aa",
      "execution_count": null,
      "outputs": [
        {
          "output_type": "execute_result",
          "data": {
            "text/plain": [
              "tensor(4.)"
            ]
          },
          "metadata": {},
          "execution_count": 2
        }
      ]
    },
    {
      "cell_type": "code",
      "metadata": {
        "colab": {
          "base_uri": "https://localhost:8080/"
        },
        "id": "bee3e863",
        "outputId": "4e8fc6df-4517-4970-d5d4-d4d07578da0e"
      },
      "source": [
        "y = torch.tensor([1, 2, 3, 4, 5.0])\n",
        "y"
      ],
      "id": "bee3e863",
      "execution_count": null,
      "outputs": [
        {
          "output_type": "execute_result",
          "data": {
            "text/plain": [
              "tensor([1., 2., 3., 4., 5.])"
            ]
          },
          "metadata": {},
          "execution_count": 3
        }
      ]
    },
    {
      "cell_type": "code",
      "metadata": {
        "colab": {
          "base_uri": "https://localhost:8080/"
        },
        "id": "4adcff19",
        "outputId": "9fa1836c-3d9c-420d-ed9a-d8dee6be478b"
      },
      "source": [
        "z = torch.tensor([\n",
        "    [1, 2, 3],\n",
        "    [3, 4, 5],\n",
        "    [6, 7, 8]\n",
        "])\n",
        "z"
      ],
      "id": "4adcff19",
      "execution_count": null,
      "outputs": [
        {
          "output_type": "execute_result",
          "data": {
            "text/plain": [
              "tensor([[1, 2, 3],\n",
              "        [3, 4, 5],\n",
              "        [6, 7, 8]])"
            ]
          },
          "metadata": {},
          "execution_count": 4
        }
      ]
    },
    {
      "cell_type": "markdown",
      "metadata": {
        "id": "85f684f5"
      },
      "source": [
        "*We can use both NumPy stype `shape` or PyTorch specific `size()` function to get the size of the tensor.**"
      ],
      "id": "85f684f5"
    },
    {
      "cell_type": "code",
      "metadata": {
        "colab": {
          "base_uri": "https://localhost:8080/"
        },
        "id": "40b619dd",
        "outputId": "3aac041f-aa91-4909-c33a-757ba25048cc"
      },
      "source": [
        "print(x.shape)\n",
        "print(y.size())\n",
        "print(z.shape)"
      ],
      "id": "40b619dd",
      "execution_count": null,
      "outputs": [
        {
          "output_type": "stream",
          "text": [
            "torch.Size([])\n",
            "torch.Size([5])\n",
            "torch.Size([3, 3])\n"
          ],
          "name": "stdout"
        }
      ]
    },
    {
      "cell_type": "code",
      "metadata": {
        "colab": {
          "base_uri": "https://localhost:8080/"
        },
        "id": "d7725e0c",
        "outputId": "515a76df-abc6-4f07-a776-a491394f6f8b"
      },
      "source": [
        "print(x.dtype)\n",
        "print(y.dtype)\n",
        "print(z.dtype)"
      ],
      "id": "d7725e0c",
      "execution_count": null,
      "outputs": [
        {
          "output_type": "stream",
          "text": [
            "torch.float32\n",
            "torch.float32\n",
            "torch.int64\n"
          ],
          "name": "stdout"
        }
      ]
    },
    {
      "cell_type": "markdown",
      "metadata": {
        "id": "6a606991"
      },
      "source": [
        "*PyTorch is perfectly compatible with NumPy. We use `from_numpy()` to create `tensor` from `ndarray`, and use `numpy()` to convert a `tensor` into a `ndarray`. However, converting between them does not change the memory location of them. So be careful.*"
      ],
      "id": "6a606991"
    },
    {
      "cell_type": "code",
      "metadata": {
        "colab": {
          "base_uri": "https://localhost:8080/"
        },
        "id": "75493d3d",
        "outputId": "dea91349-eb74-45cf-bb8b-52ea1164af97"
      },
      "source": [
        "n = np.arange(16).reshape(4, 4)\n",
        "n"
      ],
      "id": "75493d3d",
      "execution_count": null,
      "outputs": [
        {
          "output_type": "execute_result",
          "data": {
            "text/plain": [
              "array([[ 0,  1,  2,  3],\n",
              "       [ 4,  5,  6,  7],\n",
              "       [ 8,  9, 10, 11],\n",
              "       [12, 13, 14, 15]])"
            ]
          },
          "metadata": {},
          "execution_count": 7
        }
      ]
    },
    {
      "cell_type": "code",
      "metadata": {
        "colab": {
          "base_uri": "https://localhost:8080/"
        },
        "id": "4b6369ab",
        "outputId": "f14576c5-4df9-48b9-f9d0-4359c06b78bf"
      },
      "source": [
        "tn = torch.from_numpy(n)\n",
        "tn"
      ],
      "id": "4b6369ab",
      "execution_count": null,
      "outputs": [
        {
          "output_type": "execute_result",
          "data": {
            "text/plain": [
              "tensor([[ 0,  1,  2,  3],\n",
              "        [ 4,  5,  6,  7],\n",
              "        [ 8,  9, 10, 11],\n",
              "        [12, 13, 14, 15]])"
            ]
          },
          "metadata": {},
          "execution_count": 8
        }
      ]
    },
    {
      "cell_type": "code",
      "metadata": {
        "colab": {
          "base_uri": "https://localhost:8080/"
        },
        "id": "1988a444",
        "outputId": "141ed771-4b9c-4f01-d5e7-6eaac05a0d80"
      },
      "source": [
        "tn.numpy()"
      ],
      "id": "1988a444",
      "execution_count": null,
      "outputs": [
        {
          "output_type": "execute_result",
          "data": {
            "text/plain": [
              "array([[ 0,  1,  2,  3],\n",
              "       [ 4,  5,  6,  7],\n",
              "       [ 8,  9, 10, 11],\n",
              "       [12, 13, 14, 15]])"
            ]
          },
          "metadata": {},
          "execution_count": 9
        }
      ]
    },
    {
      "cell_type": "code",
      "metadata": {
        "colab": {
          "base_uri": "https://localhost:8080/"
        },
        "id": "36bb22be",
        "outputId": "5435f89e-bf96-4e99-e45b-efae761ec8f0"
      },
      "source": [
        "print(n.dtype)\n",
        "print(tn.dtype)"
      ],
      "id": "36bb22be",
      "execution_count": null,
      "outputs": [
        {
          "output_type": "stream",
          "text": [
            "int64\n",
            "torch.int64\n"
          ],
          "name": "stdout"
        }
      ]
    },
    {
      "cell_type": "markdown",
      "metadata": {
        "id": "36709f37"
      },
      "source": [
        "*PyTorch even has NumPy like interface for creating tensors. Common utility functions for creating a `tensor` include `empty`, `ones`, `zeros`, `rand`, `randint`, etc., and their corresponding `empty_like`, `rand_like`, `randint_like`, etc.*"
      ],
      "id": "36709f37"
    },
    {
      "cell_type": "code",
      "metadata": {
        "scrolled": true,
        "colab": {
          "base_uri": "https://localhost:8080/"
        },
        "id": "2ba7b600",
        "outputId": "e9f91730-7732-4437-9e5b-9ea4c6837dff"
      },
      "source": [
        "x = torch.empty(2, 2)\n",
        "x"
      ],
      "id": "2ba7b600",
      "execution_count": null,
      "outputs": [
        {
          "output_type": "execute_result",
          "data": {
            "text/plain": [
              "tensor([[-4.8526e+08,  3.0865e-41],\n",
              "        [ 3.3631e-44,  0.0000e+00]])"
            ]
          },
          "metadata": {},
          "execution_count": 11
        }
      ]
    },
    {
      "cell_type": "code",
      "metadata": {
        "colab": {
          "base_uri": "https://localhost:8080/"
        },
        "id": "51ae7608",
        "outputId": "a65f60e2-b511-4a84-86fe-e88d6a586d30"
      },
      "source": [
        "y = torch.zeros(3, 6)\n",
        "y"
      ],
      "id": "51ae7608",
      "execution_count": null,
      "outputs": [
        {
          "output_type": "execute_result",
          "data": {
            "text/plain": [
              "tensor([[0., 0., 0., 0., 0., 0.],\n",
              "        [0., 0., 0., 0., 0., 0.],\n",
              "        [0., 0., 0., 0., 0., 0.]])"
            ]
          },
          "metadata": {},
          "execution_count": 12
        }
      ]
    },
    {
      "cell_type": "code",
      "metadata": {
        "colab": {
          "base_uri": "https://localhost:8080/"
        },
        "id": "f75b414f",
        "outputId": "b3822ab9-f9a8-424e-d20a-4c5b07e45faf"
      },
      "source": [
        "o = torch.ones(2, 2)\n",
        "o"
      ],
      "id": "f75b414f",
      "execution_count": null,
      "outputs": [
        {
          "output_type": "execute_result",
          "data": {
            "text/plain": [
              "tensor([[1., 1.],\n",
              "        [1., 1.]])"
            ]
          },
          "metadata": {},
          "execution_count": 13
        }
      ]
    },
    {
      "cell_type": "code",
      "metadata": {
        "colab": {
          "base_uri": "https://localhost:8080/"
        },
        "id": "78db5a32",
        "outputId": "d2a803f1-2a1c-46ef-c11d-9fb310b2e3a4"
      },
      "source": [
        "z = torch.eye(4)\n",
        "z"
      ],
      "id": "78db5a32",
      "execution_count": null,
      "outputs": [
        {
          "output_type": "execute_result",
          "data": {
            "text/plain": [
              "tensor([[1., 0., 0., 0.],\n",
              "        [0., 1., 0., 0.],\n",
              "        [0., 0., 1., 0.],\n",
              "        [0., 0., 0., 1.]])"
            ]
          },
          "metadata": {},
          "execution_count": 14
        }
      ]
    },
    {
      "cell_type": "code",
      "metadata": {
        "colab": {
          "base_uri": "https://localhost:8080/"
        },
        "id": "ae286eca",
        "outputId": "cbd89799-cdca-47d5-dcca-d4ee97f335f1"
      },
      "source": [
        "torch.ones_like(z, dtype=torch.float32)"
      ],
      "id": "ae286eca",
      "execution_count": null,
      "outputs": [
        {
          "output_type": "execute_result",
          "data": {
            "text/plain": [
              "tensor([[1., 1., 1., 1.],\n",
              "        [1., 1., 1., 1.],\n",
              "        [1., 1., 1., 1.],\n",
              "        [1., 1., 1., 1.]])"
            ]
          },
          "metadata": {},
          "execution_count": 15
        }
      ]
    },
    {
      "cell_type": "code",
      "metadata": {
        "colab": {
          "base_uri": "https://localhost:8080/"
        },
        "id": "5183e550",
        "outputId": "848ed065-d24f-4bfa-e4e9-e26f16533a5e"
      },
      "source": [
        "torch.rand(2, 2)"
      ],
      "id": "5183e550",
      "execution_count": null,
      "outputs": [
        {
          "output_type": "execute_result",
          "data": {
            "text/plain": [
              "tensor([[0.8660, 0.1947],\n",
              "        [0.9669, 0.0950]])"
            ]
          },
          "metadata": {},
          "execution_count": 16
        }
      ]
    },
    {
      "cell_type": "markdown",
      "metadata": {
        "id": "ea1b41e0"
      },
      "source": [
        "*Slicing and indexing is similar to NumPy. However, we can use `item` to get the actual value if the tensor has only one item.*"
      ],
      "id": "ea1b41e0"
    },
    {
      "cell_type": "code",
      "metadata": {
        "colab": {
          "base_uri": "https://localhost:8080/"
        },
        "id": "351739df",
        "outputId": "dbe570b5-52e7-4f88-e840-ced6366e14dd"
      },
      "source": [
        "x = torch.tensor(5.)\n",
        "x"
      ],
      "id": "351739df",
      "execution_count": null,
      "outputs": [
        {
          "output_type": "execute_result",
          "data": {
            "text/plain": [
              "tensor(5.)"
            ]
          },
          "metadata": {},
          "execution_count": 17
        }
      ]
    },
    {
      "cell_type": "code",
      "metadata": {
        "colab": {
          "base_uri": "https://localhost:8080/"
        },
        "id": "14d0749c",
        "outputId": "00dcd3ea-60ec-4718-8494-93bc0e49810b"
      },
      "source": [
        "x.item()"
      ],
      "id": "14d0749c",
      "execution_count": null,
      "outputs": [
        {
          "output_type": "execute_result",
          "data": {
            "text/plain": [
              "5.0"
            ]
          },
          "metadata": {},
          "execution_count": 18
        }
      ]
    },
    {
      "cell_type": "markdown",
      "metadata": {
        "id": "8ab649be"
      },
      "source": [
        "*We can use `view` function to reshape a tensor.*"
      ],
      "id": "8ab649be"
    },
    {
      "cell_type": "code",
      "metadata": {
        "colab": {
          "base_uri": "https://localhost:8080/"
        },
        "id": "8b70c656",
        "outputId": "c192135d-8198-4cd8-f96d-99427071a4a0"
      },
      "source": [
        "x = torch.randint(0, 5, (5, 4))\n",
        "x"
      ],
      "id": "8b70c656",
      "execution_count": null,
      "outputs": [
        {
          "output_type": "execute_result",
          "data": {
            "text/plain": [
              "tensor([[3, 1, 2, 0],\n",
              "        [2, 3, 1, 1],\n",
              "        [1, 1, 4, 2],\n",
              "        [0, 1, 0, 3],\n",
              "        [3, 0, 1, 3]])"
            ]
          },
          "metadata": {},
          "execution_count": 19
        }
      ]
    },
    {
      "cell_type": "code",
      "metadata": {
        "colab": {
          "base_uri": "https://localhost:8080/"
        },
        "id": "56298a35",
        "outputId": "9657d8c9-578c-43d5-f486-a8ba2591dc1f"
      },
      "source": [
        "y = x.view(2, 10)\n",
        "y"
      ],
      "id": "56298a35",
      "execution_count": null,
      "outputs": [
        {
          "output_type": "execute_result",
          "data": {
            "text/plain": [
              "tensor([[3, 1, 2, 0, 2, 3, 1, 1, 1, 1],\n",
              "        [4, 2, 0, 1, 0, 3, 3, 0, 1, 3]])"
            ]
          },
          "metadata": {},
          "execution_count": 20
        }
      ]
    },
    {
      "cell_type": "code",
      "metadata": {
        "colab": {
          "base_uri": "https://localhost:8080/"
        },
        "id": "c24ac8eb",
        "outputId": "80bc0694-2071-418e-8ad5-61ba32986d01"
      },
      "source": [
        "y.reshape(2, 10)"
      ],
      "id": "c24ac8eb",
      "execution_count": null,
      "outputs": [
        {
          "output_type": "execute_result",
          "data": {
            "text/plain": [
              "tensor([[3, 1, 2, 0, 2, 3, 1, 1, 1, 1],\n",
              "        [4, 2, 0, 1, 0, 3, 3, 0, 1, 3]])"
            ]
          },
          "metadata": {},
          "execution_count": 21
        }
      ]
    },
    {
      "cell_type": "code",
      "metadata": {
        "colab": {
          "base_uri": "https://localhost:8080/"
        },
        "id": "19432698",
        "outputId": "59e09440-40a5-439e-ed85-6ee7f56b295e"
      },
      "source": [
        "y.view(4, 5)"
      ],
      "id": "19432698",
      "execution_count": null,
      "outputs": [
        {
          "output_type": "execute_result",
          "data": {
            "text/plain": [
              "tensor([[3, 1, 2, 0, 2],\n",
              "        [3, 1, 1, 1, 1],\n",
              "        [4, 2, 0, 1, 0],\n",
              "        [3, 3, 0, 1, 3]])"
            ]
          },
          "metadata": {},
          "execution_count": 22
        }
      ]
    },
    {
      "cell_type": "code",
      "metadata": {
        "colab": {
          "base_uri": "https://localhost:8080/"
        },
        "id": "31426ab6",
        "outputId": "84da8bd0-8c6b-4e71-dbea-780658c66532"
      },
      "source": [
        "y"
      ],
      "id": "31426ab6",
      "execution_count": null,
      "outputs": [
        {
          "output_type": "execute_result",
          "data": {
            "text/plain": [
              "tensor([[3, 1, 2, 0, 2, 3, 1, 1, 1, 1],\n",
              "        [4, 2, 0, 1, 0, 3, 3, 0, 1, 3]])"
            ]
          },
          "metadata": {},
          "execution_count": 23
        }
      ]
    },
    {
      "cell_type": "code",
      "metadata": {
        "colab": {
          "base_uri": "https://localhost:8080/"
        },
        "id": "44cc96cc",
        "outputId": "7cf23901-3732-4a2f-8353-90b8e83f4adf"
      },
      "source": [
        "y.view(4, -1)\n",
        "# -1 means = change y, so that we get 4 cols, find out how many rows we need for that"
      ],
      "id": "44cc96cc",
      "execution_count": null,
      "outputs": [
        {
          "output_type": "execute_result",
          "data": {
            "text/plain": [
              "tensor([[3, 1, 2, 0, 2],\n",
              "        [3, 1, 1, 1, 1],\n",
              "        [4, 2, 0, 1, 0],\n",
              "        [3, 3, 0, 1, 3]])"
            ]
          },
          "metadata": {},
          "execution_count": 25
        }
      ]
    },
    {
      "cell_type": "markdown",
      "metadata": {
        "id": "404ee7d5"
      },
      "source": [
        "*`unsqueeze` can add a new dimension at the specified position.*"
      ],
      "id": "404ee7d5"
    },
    {
      "cell_type": "code",
      "metadata": {
        "colab": {
          "base_uri": "https://localhost:8080/"
        },
        "id": "c9023c01",
        "outputId": "9e988044-d2fa-4641-813d-f09ac64629e4"
      },
      "source": [
        "x.size()"
      ],
      "id": "c9023c01",
      "execution_count": null,
      "outputs": [
        {
          "output_type": "execute_result",
          "data": {
            "text/plain": [
              "torch.Size([5, 4])"
            ]
          },
          "metadata": {},
          "execution_count": 26
        }
      ]
    },
    {
      "cell_type": "code",
      "metadata": {
        "colab": {
          "base_uri": "https://localhost:8080/"
        },
        "id": "31079aab",
        "outputId": "d17d7235-1383-4e94-a7b3-c11b788a9b24"
      },
      "source": [
        "torch.unsqueeze(x, 0).shape\n",
        "# 0 means = where will be the new dimension placed like 0 index"
      ],
      "id": "31079aab",
      "execution_count": null,
      "outputs": [
        {
          "output_type": "execute_result",
          "data": {
            "text/plain": [
              "torch.Size([1, 5, 4])"
            ]
          },
          "metadata": {},
          "execution_count": 29
        }
      ]
    },
    {
      "cell_type": "markdown",
      "metadata": {
        "id": "326e475a"
      },
      "source": [
        "*We can concatenate two tensors together.*"
      ],
      "id": "326e475a"
    },
    {
      "cell_type": "code",
      "metadata": {
        "id": "ca776146"
      },
      "source": [
        "x = torch.ones(2, 2)\n",
        "y = torch.zeros(2, 4)"
      ],
      "id": "ca776146",
      "execution_count": null,
      "outputs": []
    },
    {
      "cell_type": "code",
      "metadata": {
        "colab": {
          "base_uri": "https://localhost:8080/"
        },
        "id": "f725e0cf",
        "outputId": "c2c24c8a-59f7-4e8d-c2dd-5cac006c3355"
      },
      "source": [
        "x"
      ],
      "id": "f725e0cf",
      "execution_count": null,
      "outputs": [
        {
          "output_type": "execute_result",
          "data": {
            "text/plain": [
              "tensor([[1., 1.],\n",
              "        [1., 1.]])"
            ]
          },
          "metadata": {},
          "execution_count": 31
        }
      ]
    },
    {
      "cell_type": "code",
      "metadata": {
        "colab": {
          "base_uri": "https://localhost:8080/"
        },
        "id": "ada616f4",
        "outputId": "538cc375-dba6-4f7d-a51c-5a8a26a6d5b0"
      },
      "source": [
        "y"
      ],
      "id": "ada616f4",
      "execution_count": null,
      "outputs": [
        {
          "output_type": "execute_result",
          "data": {
            "text/plain": [
              "tensor([[0., 0., 0., 0.],\n",
              "        [0., 0., 0., 0.]])"
            ]
          },
          "metadata": {},
          "execution_count": 32
        }
      ]
    },
    {
      "cell_type": "code",
      "metadata": {
        "colab": {
          "base_uri": "https://localhost:8080/"
        },
        "id": "28d73915",
        "outputId": "5d73e000-3e37-40e5-a552-7bb857168c42"
      },
      "source": [
        "z = torch.cat([x, y], dim=1)\n",
        "z"
      ],
      "id": "28d73915",
      "execution_count": null,
      "outputs": [
        {
          "output_type": "execute_result",
          "data": {
            "text/plain": [
              "tensor([[1., 1., 0., 0., 0., 0.],\n",
              "        [1., 1., 0., 0., 0., 0.]])"
            ]
          },
          "metadata": {},
          "execution_count": 33
        }
      ]
    },
    {
      "cell_type": "code",
      "metadata": {
        "colab": {
          "base_uri": "https://localhost:8080/"
        },
        "id": "30ee89b8",
        "outputId": "31347807-c8f2-4300-c825-9513cd7a1e7d"
      },
      "source": [
        "torch.cat([z, torch.ones(1, 6)], dim=0)"
      ],
      "id": "30ee89b8",
      "execution_count": null,
      "outputs": [
        {
          "output_type": "execute_result",
          "data": {
            "text/plain": [
              "tensor([[1., 1., 0., 0., 0., 0.],\n",
              "        [1., 1., 0., 0., 0., 0.],\n",
              "        [1., 1., 1., 1., 1., 1.]])"
            ]
          },
          "metadata": {},
          "execution_count": 34
        }
      ]
    },
    {
      "cell_type": "markdown",
      "metadata": {
        "id": "62a59203"
      },
      "source": [
        "*Finally, we can find out the device that our tensors are running on.**"
      ],
      "id": "62a59203"
    },
    {
      "cell_type": "code",
      "metadata": {
        "colab": {
          "base_uri": "https://localhost:8080/"
        },
        "id": "aa3ec90c",
        "outputId": "59b91e5a-bdbc-4e31-c17d-83d93e565c4a"
      },
      "source": [
        "x"
      ],
      "id": "aa3ec90c",
      "execution_count": null,
      "outputs": [
        {
          "output_type": "execute_result",
          "data": {
            "text/plain": [
              "tensor([[1., 1.],\n",
              "        [1., 1.]])"
            ]
          },
          "metadata": {},
          "execution_count": 35
        }
      ]
    },
    {
      "cell_type": "markdown",
      "metadata": {
        "id": "056befe5"
      },
      "source": [
        "# Gradients"
      ],
      "id": "056befe5"
    },
    {
      "cell_type": "code",
      "metadata": {
        "id": "b8f60d3d"
      },
      "source": [
        "x = torch.tensor(5.)\n",
        "w = torch.tensor(2., requires_grad=True)\n",
        "b = torch.tensor(3., requires_grad=True)"
      ],
      "id": "b8f60d3d",
      "execution_count": null,
      "outputs": []
    },
    {
      "cell_type": "code",
      "metadata": {
        "colab": {
          "base_uri": "https://localhost:8080/"
        },
        "id": "cdad6894",
        "outputId": "43933fab-9293-4019-e93d-514779d472ba"
      },
      "source": [
        "y = w*x + b\n",
        "z = 3*y\n",
        "z"
      ],
      "id": "cdad6894",
      "execution_count": null,
      "outputs": [
        {
          "output_type": "execute_result",
          "data": {
            "text/plain": [
              "tensor(39., grad_fn=<MulBackward0>)"
            ]
          },
          "metadata": {},
          "execution_count": 46
        }
      ]
    },
    {
      "cell_type": "markdown",
      "metadata": {
        "id": "a6992716"
      },
      "source": [
        "*We can automatically calculate the derivatives of `y` with respect to its parameters which have `requires_grad=True` set.*"
      ],
      "id": "a6992716"
    },
    {
      "cell_type": "code",
      "metadata": {
        "id": "677ecd37"
      },
      "source": [
        "z.backward()"
      ],
      "id": "677ecd37",
      "execution_count": null,
      "outputs": []
    },
    {
      "cell_type": "code",
      "metadata": {
        "colab": {
          "base_uri": "https://localhost:8080/"
        },
        "id": "71093629",
        "outputId": "7fc4fda3-e67a-4fe9-af6b-6d18635ac360"
      },
      "source": [
        "print('dy/dw: ', w.grad)\n",
        "print('dy/db: ', b.grad)"
      ],
      "id": "71093629",
      "execution_count": null,
      "outputs": [
        {
          "output_type": "stream",
          "text": [
            "dy/dw:  tensor(15.)\n",
            "dy/db:  tensor(3.)\n"
          ],
          "name": "stdout"
        }
      ]
    },
    {
      "cell_type": "markdown",
      "metadata": {
        "id": "2d1a517d"
      },
      "source": [
        "*If you do not want to calculate gradients for some operation, you can use `with torch.no_grad()`.*"
      ],
      "id": "2d1a517d"
    },
    {
      "cell_type": "code",
      "metadata": {
        "id": "51ed41a7"
      },
      "source": [
        "with torch.no_grad():\n",
        "    w -= w.grad * 0.001\n",
        "    b -= b.grad * 0.001"
      ],
      "id": "51ed41a7",
      "execution_count": null,
      "outputs": []
    },
    {
      "cell_type": "code",
      "metadata": {
        "colab": {
          "base_uri": "https://localhost:8080/"
        },
        "id": "7c599990",
        "outputId": "d6011ab9-4a19-45c6-85e6-663ab666b987"
      },
      "source": [
        "print('W: ', w)\n",
        "print('B: ', b)"
      ],
      "id": "7c599990",
      "execution_count": null,
      "outputs": [
        {
          "output_type": "stream",
          "text": [
            "W:  tensor(1.9850, requires_grad=True)\n",
            "B:  tensor(2.9970, requires_grad=True)\n"
          ],
          "name": "stdout"
        }
      ]
    },
    {
      "cell_type": "code",
      "metadata": {
        "colab": {
          "base_uri": "https://localhost:8080/"
        },
        "id": "b31f6664",
        "outputId": "039e926c-e813-4f56-b0f9-1b0fbdee21ce"
      },
      "source": [
        "print('dy/dw: ', w.grad)\n",
        "print('dy/db: ', b.grad)"
      ],
      "id": "b31f6664",
      "execution_count": null,
      "outputs": [
        {
          "output_type": "stream",
          "text": [
            "dy/dw:  tensor(15.)\n",
            "dy/db:  tensor(3.)\n"
          ],
          "name": "stdout"
        }
      ]
    },
    {
      "cell_type": "markdown",
      "metadata": {
        "id": "7f36cb22"
      },
      "source": [
        "*We can clear the gradients using `zero_` function. Any function with a `_` in the end usually  means the operation is performed in-place.*"
      ],
      "id": "7f36cb22"
    },
    {
      "cell_type": "code",
      "metadata": {
        "colab": {
          "base_uri": "https://localhost:8080/"
        },
        "id": "5387ec79",
        "outputId": "181acef9-cba2-4772-fe92-8583f5849f48"
      },
      "source": [
        "w.grad.zero_()\n",
        "b.grad.zero_()"
      ],
      "id": "5387ec79",
      "execution_count": null,
      "outputs": [
        {
          "output_type": "execute_result",
          "data": {
            "text/plain": [
              "tensor(0.)"
            ]
          },
          "metadata": {},
          "execution_count": 43
        }
      ]
    },
    {
      "cell_type": "code",
      "metadata": {
        "colab": {
          "base_uri": "https://localhost:8080/"
        },
        "id": "38970daa",
        "outputId": "2f889da7-573b-4cd6-c940-1080a9c02b56"
      },
      "source": [
        "print('dy/dw: ', w.grad)\n",
        "print('dy/db: ', b.grad)"
      ],
      "id": "38970daa",
      "execution_count": null,
      "outputs": [
        {
          "output_type": "stream",
          "text": [
            "dy/dw:  tensor(0.)\n",
            "dy/db:  tensor(0.)\n"
          ],
          "name": "stdout"
        }
      ]
    },
    {
      "cell_type": "markdown",
      "metadata": {
        "id": "6a1311f1"
      },
      "source": [
        "# A Simple Linear Regression"
      ],
      "id": "6a1311f1"
    },
    {
      "cell_type": "markdown",
      "metadata": {
        "id": "28ea1861"
      },
      "source": [
        "*Preparing `iris` data.*"
      ],
      "id": "28ea1861"
    },
    {
      "cell_type": "code",
      "metadata": {
        "id": "72f7b41b"
      },
      "source": [
        "from sklearn.datasets import load_iris"
      ],
      "id": "72f7b41b",
      "execution_count": null,
      "outputs": []
    },
    {
      "cell_type": "code",
      "metadata": {
        "id": "71c580de"
      },
      "source": [
        "iris = load_iris()"
      ],
      "id": "71c580de",
      "execution_count": null,
      "outputs": []
    },
    {
      "cell_type": "code",
      "metadata": {
        "colab": {
          "base_uri": "https://localhost:8080/"
        },
        "id": "a75b4836",
        "outputId": "1f7c63bb-9ebc-4732-a99c-8b882e85167b"
      },
      "source": [
        "iris.data.shape"
      ],
      "id": "a75b4836",
      "execution_count": null,
      "outputs": [
        {
          "output_type": "execute_result",
          "data": {
            "text/plain": [
              "(150, 4)"
            ]
          },
          "metadata": {},
          "execution_count": 54
        }
      ]
    },
    {
      "cell_type": "markdown",
      "metadata": {
        "id": "1b737e72"
      },
      "source": [
        "*We will be taking first `3` columns, which are sepal lenght, sepal width, and petal length, as our features, and the last column, which is petal width, as target.**"
      ],
      "id": "1b737e72"
    },
    {
      "cell_type": "code",
      "metadata": {
        "id": "b1f4cd38"
      },
      "source": [
        "x = iris.data[:, :3]\n",
        "y = iris.data[:, 3]"
      ],
      "id": "b1f4cd38",
      "execution_count": null,
      "outputs": []
    },
    {
      "cell_type": "code",
      "metadata": {
        "colab": {
          "base_uri": "https://localhost:8080/"
        },
        "id": "d66c7463",
        "outputId": "fc71c323-5259-468d-9131-04d89e71d857"
      },
      "source": [
        "print(x.shape)\n",
        "print(y.shape)"
      ],
      "id": "d66c7463",
      "execution_count": null,
      "outputs": [
        {
          "output_type": "stream",
          "text": [
            "(150, 3)\n",
            "(150,)\n"
          ],
          "name": "stdout"
        }
      ]
    },
    {
      "cell_type": "markdown",
      "metadata": {
        "id": "e1e213f4"
      },
      "source": [
        "*Next, we create tensors from the `ndarray`. Note that we have changed the shape of the label array. At first, `y` was `0` dimensional. To make it work with matrices, we changed it to `-1x1` dimensional, where `-1` means whatever numebr necessary or left after setting `1` column.* "
      ],
      "id": "e1e213f4"
    },
    {
      "cell_type": "code",
      "metadata": {
        "id": "8decfd44"
      },
      "source": [
        "x = torch.from_numpy(x)\n",
        "y = torch.from_numpy(y.reshape(-1, 1))"
      ],
      "id": "8decfd44",
      "execution_count": null,
      "outputs": []
    },
    {
      "cell_type": "code",
      "metadata": {
        "colab": {
          "base_uri": "https://localhost:8080/"
        },
        "id": "3a6e6b77",
        "outputId": "8f7794a0-44e6-4013-c875-2943b0acabd4"
      },
      "source": [
        "print(x.shape)\n",
        "print(x.dtype)\n",
        "print(y.shape)\n",
        "print(y.dtype)"
      ],
      "id": "3a6e6b77",
      "execution_count": null,
      "outputs": [
        {
          "output_type": "stream",
          "text": [
            "torch.Size([150, 3])\n",
            "torch.float64\n",
            "torch.Size([150, 1])\n",
            "torch.float64\n"
          ],
          "name": "stdout"
        }
      ]
    },
    {
      "cell_type": "markdown",
      "metadata": {
        "id": "e3aabf0b"
      },
      "source": [
        "*Weight initialization. We initialize a `3x1` matrix as there are `3` features, and a `1x1` bias.*"
      ],
      "id": "e3aabf0b"
    },
    {
      "cell_type": "code",
      "metadata": {
        "id": "cd2e0223"
      },
      "source": [
        "w = torch.rand(3, 1, requires_grad=True, dtype=torch.float64)\n",
        "b = torch.rand(1, 1, requires_grad=True, dtype=torch.float64)"
      ],
      "id": "cd2e0223",
      "execution_count": null,
      "outputs": []
    },
    {
      "cell_type": "code",
      "metadata": {
        "colab": {
          "base_uri": "https://localhost:8080/"
        },
        "id": "24386b7e",
        "outputId": "dca7c1fe-0d79-447e-ecfa-edee0f3e3396"
      },
      "source": [
        "print(w)"
      ],
      "id": "24386b7e",
      "execution_count": null,
      "outputs": [
        {
          "output_type": "stream",
          "text": [
            "tensor([[0.4793],\n",
            "        [0.5391],\n",
            "        [0.3604]], dtype=torch.float64, requires_grad=True)\n"
          ],
          "name": "stdout"
        }
      ]
    },
    {
      "cell_type": "code",
      "metadata": {
        "colab": {
          "base_uri": "https://localhost:8080/"
        },
        "id": "0b8d86fa",
        "outputId": "6844880d-d983-42d7-887d-da00f2b640a7"
      },
      "source": [
        "print(b)"
      ],
      "id": "0b8d86fa",
      "execution_count": null,
      "outputs": [
        {
          "output_type": "stream",
          "text": [
            "tensor([[0.7323]], dtype=torch.float64, requires_grad=True)\n"
          ],
          "name": "stdout"
        }
      ]
    },
    {
      "cell_type": "code",
      "metadata": {
        "colab": {
          "base_uri": "https://localhost:8080/"
        },
        "id": "2735dc4b",
        "outputId": "d7882818-71d8-4fb6-bb09-27d04288c4b7"
      },
      "source": [
        "print(w.shape)\n",
        "print(w.dtype)\n",
        "print(b.shape)\n",
        "print(b.dtype)"
      ],
      "id": "2735dc4b",
      "execution_count": null,
      "outputs": [
        {
          "output_type": "stream",
          "text": [
            "torch.Size([3, 1])\n",
            "torch.float64\n",
            "torch.Size([1, 1])\n",
            "torch.float64\n"
          ],
          "name": "stdout"
        }
      ]
    },
    {
      "cell_type": "markdown",
      "metadata": {
        "id": "41d07b23"
      },
      "source": [
        "*Creating model. Our simple linear model has equation of $w_{1}x_{1} + w_{2}x_{2} + w_{3}x_{3} + b$, which is simply achieved by computing $x\\times W + b$.*"
      ],
      "id": "41d07b23"
    },
    {
      "cell_type": "code",
      "metadata": {
        "id": "d252377b"
      },
      "source": [
        "def model(x):\n",
        "    return x @ w + b\n",
        "\n",
        "# @ = matrix multiplication\n",
        "# * = element wise multiplication"
      ],
      "id": "d252377b",
      "execution_count": null,
      "outputs": []
    },
    {
      "cell_type": "code",
      "metadata": {
        "id": "67b92d9c"
      },
      "source": [
        "def mse(pred, label):\n",
        "    ae = pred - label\n",
        "    return torch.sum(ae * ae) / ae.numel()"
      ],
      "id": "67b92d9c",
      "execution_count": null,
      "outputs": []
    },
    {
      "cell_type": "code",
      "metadata": {
        "colab": {
          "base_uri": "https://localhost:8080/"
        },
        "id": "13db47aa",
        "outputId": "58cdce5c-d7a4-4c8b-dda5-a57980562c5d"
      },
      "source": [
        "epochs = 10\n",
        "lr = 0.01\n",
        "\n",
        "for e in range(epochs):\n",
        "    predictions = model(x)\n",
        "    loss = mse(predictions, y)\n",
        "    \n",
        "    print('Epoch ', e, ': Loss ', loss)\n",
        "    \n",
        "    with torch.no_grad():\n",
        "        loss.backward()\n",
        "        \n",
        "        w -= w.grad * lr\n",
        "        b -= b.grad * lr\n",
        "        \n",
        "        w.grad.zero_()\n",
        "        b.grad.zero_()"
      ],
      "id": "13db47aa",
      "execution_count": null,
      "outputs": [
        {
          "output_type": "stream",
          "text": [
            "Epoch  0 : Loss  tensor(28.6630, dtype=torch.float64, grad_fn=<DivBackward0>)\n",
            "Epoch  1 : Loss  tensor(1.9021, dtype=torch.float64, grad_fn=<DivBackward0>)\n",
            "Epoch  2 : Loss  tensor(0.6506, dtype=torch.float64, grad_fn=<DivBackward0>)\n",
            "Epoch  3 : Loss  tensor(0.5556, dtype=torch.float64, grad_fn=<DivBackward0>)\n",
            "Epoch  4 : Loss  tensor(0.5157, dtype=torch.float64, grad_fn=<DivBackward0>)\n",
            "Epoch  5 : Loss  tensor(0.4809, dtype=torch.float64, grad_fn=<DivBackward0>)\n",
            "Epoch  6 : Loss  tensor(0.4488, dtype=torch.float64, grad_fn=<DivBackward0>)\n",
            "Epoch  7 : Loss  tensor(0.4190, dtype=torch.float64, grad_fn=<DivBackward0>)\n",
            "Epoch  8 : Loss  tensor(0.3915, dtype=torch.float64, grad_fn=<DivBackward0>)\n",
            "Epoch  9 : Loss  tensor(0.3659, dtype=torch.float64, grad_fn=<DivBackward0>)\n"
          ],
          "name": "stdout"
        }
      ]
    },
    {
      "cell_type": "markdown",
      "metadata": {
        "id": "08ac8eee"
      },
      "source": [
        "# Regression Using PyTorch"
      ],
      "id": "08ac8eee"
    },
    {
      "cell_type": "code",
      "metadata": {
        "id": "91c115f3"
      },
      "source": [
        "import torch.nn as nn\n",
        "from torch.optim import SGD, Adam\n",
        "from torch.nn.functional import mse_loss\n",
        "from torch.utils.data.sampler import SubsetRandomSampler\n",
        "from torch.utils.data import Dataset, DataLoader"
      ],
      "id": "91c115f3",
      "execution_count": null,
      "outputs": []
    },
    {
      "cell_type": "code",
      "metadata": {
        "id": "a8a22f75"
      },
      "source": [
        "class MakeTensor:\n",
        "    def __call__(self, sample):\n",
        "        x, y = sample\n",
        "        return torch.from_numpy(x.astype(np.float32)), torch.from_numpy(y.astype(np.float32))"
      ],
      "id": "a8a22f75",
      "execution_count": null,
      "outputs": []
    },
    {
      "cell_type": "code",
      "metadata": {
        "id": "2446fc8d"
      },
      "source": [
        "class IRISDataset(Dataset):\n",
        "    def __init__(self, transforms=None):\n",
        "        data = load_iris()\n",
        "        self.x = data.data[:, 0:3]\n",
        "        self.y = data.data[:, [3]]\n",
        "        self.n = data.data.shape[0]\n",
        "        self.transforms = transforms\n",
        "    \n",
        "    def __getitem__(self, index):\n",
        "        sample = self.x[index], self.y[index]\n",
        "        \n",
        "        if self.transforms:\n",
        "            sample = self.transforms(sample)\n",
        "        return sample\n",
        "    \n",
        "    def __len__(self):\n",
        "        return self.n\n",
        "\n",
        "# __something__ = magic function"
      ],
      "id": "2446fc8d",
      "execution_count": null,
      "outputs": []
    },
    {
      "cell_type": "code",
      "metadata": {
        "id": "10aaeee9"
      },
      "source": [
        "dataset = IRISDataset(transforms=MakeTensor())"
      ],
      "id": "10aaeee9",
      "execution_count": null,
      "outputs": []
    },
    {
      "cell_type": "code",
      "metadata": {
        "colab": {
          "base_uri": "https://localhost:8080/"
        },
        "id": "3ebfacd1",
        "outputId": "fca11db1-2911-41d8-8817-75cb6b9e3621"
      },
      "source": [
        "dataset[0]"
      ],
      "id": "3ebfacd1",
      "execution_count": null,
      "outputs": [
        {
          "output_type": "execute_result",
          "data": {
            "text/plain": [
              "(tensor([5.1000, 3.5000, 1.4000]), tensor([0.2000]))"
            ]
          },
          "metadata": {},
          "execution_count": 86
        }
      ]
    },
    {
      "cell_type": "code",
      "metadata": {
        "id": "7b663ab2"
      },
      "source": [
        "datasampler = SubsetRandomSampler(np.arange(len(dataset)))\n",
        "dataloader = DataLoader(dataset, 32, sampler=datasampler)"
      ],
      "id": "7b663ab2",
      "execution_count": null,
      "outputs": []
    },
    {
      "cell_type": "code",
      "metadata": {
        "colab": {
          "base_uri": "https://localhost:8080/"
        },
        "id": "5026b44a",
        "outputId": "2a824c59-ab0d-4b06-e293-b4f855b66554"
      },
      "source": [
        "for xa, ya in dataloader:\n",
        "    print(xa.shape)\n",
        "    print(ya.shape)"
      ],
      "id": "5026b44a",
      "execution_count": null,
      "outputs": [
        {
          "output_type": "stream",
          "text": [
            "torch.Size([32, 3])\n",
            "torch.Size([32, 1])\n",
            "torch.Size([32, 3])\n",
            "torch.Size([32, 1])\n",
            "torch.Size([32, 3])\n",
            "torch.Size([32, 1])\n",
            "torch.Size([32, 3])\n",
            "torch.Size([32, 1])\n",
            "torch.Size([22, 3])\n",
            "torch.Size([22, 1])\n"
          ],
          "name": "stdout"
        }
      ]
    },
    {
      "cell_type": "markdown",
      "metadata": {
        "id": "c6c4c504"
      },
      "source": [
        "*Rememeber that the entire `nn` module only supports mini-batches. So, if your image has size `3x32x32`, it will be actually `1x3x32x32` during the training. The first dimension is the mini-batch dimension. You can convert a single 3-dimensional image to 4-dimensional mini-batch using `torch.unsqueeze()`.*"
      ],
      "id": "c6c4c504"
    },
    {
      "cell_type": "code",
      "metadata": {
        "id": "bdbb9e0d"
      },
      "source": [
        "model = nn.Linear(in_features=3, out_features=1, bias=True)"
      ],
      "id": "bdbb9e0d",
      "execution_count": null,
      "outputs": []
    },
    {
      "cell_type": "code",
      "metadata": {
        "colab": {
          "base_uri": "https://localhost:8080/"
        },
        "id": "bf5db727",
        "outputId": "43ccaa8c-ca1f-43e6-845d-e6e3ea498d14"
      },
      "source": [
        "model.weight"
      ],
      "id": "bf5db727",
      "execution_count": null,
      "outputs": [
        {
          "output_type": "execute_result",
          "data": {
            "text/plain": [
              "Parameter containing:\n",
              "tensor([[-0.5488, -0.3104,  0.3861]], requires_grad=True)"
            ]
          },
          "metadata": {},
          "execution_count": 75
        }
      ]
    },
    {
      "cell_type": "code",
      "metadata": {
        "colab": {
          "base_uri": "https://localhost:8080/"
        },
        "id": "61f51079",
        "outputId": "b9e54f9c-1e07-426b-a3f2-37d00aaa7cda"
      },
      "source": [
        "model.bias"
      ],
      "id": "61f51079",
      "execution_count": null,
      "outputs": [
        {
          "output_type": "execute_result",
          "data": {
            "text/plain": [
              "Parameter containing:\n",
              "tensor([0.0285], requires_grad=True)"
            ]
          },
          "metadata": {},
          "execution_count": 76
        }
      ]
    },
    {
      "cell_type": "code",
      "metadata": {
        "colab": {
          "base_uri": "https://localhost:8080/"
        },
        "id": "6ca90c65",
        "outputId": "4bce3f7e-e6da-49be-aa72-4edcc45e6127"
      },
      "source": [
        "list(model.parameters())"
      ],
      "id": "6ca90c65",
      "execution_count": null,
      "outputs": [
        {
          "output_type": "execute_result",
          "data": {
            "text/plain": [
              "[Parameter containing:\n",
              " tensor([[-0.5488, -0.3104,  0.3861]], requires_grad=True),\n",
              " Parameter containing:\n",
              " tensor([0.0285], requires_grad=True)]"
            ]
          },
          "metadata": {},
          "execution_count": 77
        }
      ]
    },
    {
      "cell_type": "code",
      "metadata": {
        "id": "9b3a6b41"
      },
      "source": [
        "optimizer = SGD(model.parameters(), lr=1e-3)"
      ],
      "id": "9b3a6b41",
      "execution_count": null,
      "outputs": []
    },
    {
      "cell_type": "markdown",
      "metadata": {
        "id": "b09c4fe2"
      },
      "source": [
        "Suppose your `epochs=10`, your training data has `10,000` observations, and batch size is `1,000`. Then, then number of weight updates that will take place is `10 * (10,000/1,000)`. It means in each epoch, there will be `10000/1000` or `10` steps. Therefore, in `10` epochs, there will be `100` steps."
      ],
      "id": "b09c4fe2"
    },
    {
      "cell_type": "code",
      "metadata": {
        "colab": {
          "base_uri": "https://localhost:8080/"
        },
        "id": "92452dc8",
        "outputId": "0a172028-581e-4033-a114-ec7cda2d1f02"
      },
      "source": [
        "epochs = 25\n",
        "\n",
        "for e in range(epochs):\n",
        "    for xb, yb in dataloader:\n",
        "        predictions = model(xb)\n",
        "        loss = mse_loss(predictions, yb)\n",
        "\n",
        "        with torch.no_grad():\n",
        "            loss.backward()\n",
        "            optimizer.step()\n",
        "            optimizer.zero_grad()\n",
        "    \n",
        "    print('Epoch ', e)\n",
        "    print(loss)"
      ],
      "id": "92452dc8",
      "execution_count": null,
      "outputs": [
        {
          "output_type": "stream",
          "text": [
            "Epoch  0\n",
            "tensor(5.3596, grad_fn=<MseLossBackward>)\n",
            "Epoch  1\n",
            "tensor(1.5614, grad_fn=<MseLossBackward>)\n",
            "Epoch  2\n",
            "tensor(0.5309, grad_fn=<MseLossBackward>)\n",
            "Epoch  3\n",
            "tensor(0.1995, grad_fn=<MseLossBackward>)\n",
            "Epoch  4\n",
            "tensor(0.1778, grad_fn=<MseLossBackward>)\n",
            "Epoch  5\n",
            "tensor(0.1451, grad_fn=<MseLossBackward>)\n",
            "Epoch  6\n",
            "tensor(0.1112, grad_fn=<MseLossBackward>)\n",
            "Epoch  7\n",
            "tensor(0.1349, grad_fn=<MseLossBackward>)\n",
            "Epoch  8\n",
            "tensor(0.1377, grad_fn=<MseLossBackward>)\n",
            "Epoch  9\n",
            "tensor(0.1170, grad_fn=<MseLossBackward>)\n",
            "Epoch  10\n",
            "tensor(0.1051, grad_fn=<MseLossBackward>)\n",
            "Epoch  11\n",
            "tensor(0.0586, grad_fn=<MseLossBackward>)\n",
            "Epoch  12\n",
            "tensor(0.1419, grad_fn=<MseLossBackward>)\n",
            "Epoch  13\n",
            "tensor(0.1259, grad_fn=<MseLossBackward>)\n",
            "Epoch  14\n",
            "tensor(0.0713, grad_fn=<MseLossBackward>)\n",
            "Epoch  15\n",
            "tensor(0.0864, grad_fn=<MseLossBackward>)\n",
            "Epoch  16\n",
            "tensor(0.0954, grad_fn=<MseLossBackward>)\n",
            "Epoch  17\n",
            "tensor(0.0901, grad_fn=<MseLossBackward>)\n",
            "Epoch  18\n",
            "tensor(0.0834, grad_fn=<MseLossBackward>)\n",
            "Epoch  19\n",
            "tensor(0.0791, grad_fn=<MseLossBackward>)\n",
            "Epoch  20\n",
            "tensor(0.0658, grad_fn=<MseLossBackward>)\n",
            "Epoch  21\n",
            "tensor(0.0801, grad_fn=<MseLossBackward>)\n",
            "Epoch  22\n",
            "tensor(0.0857, grad_fn=<MseLossBackward>)\n",
            "Epoch  23\n",
            "tensor(0.1124, grad_fn=<MseLossBackward>)\n",
            "Epoch  24\n",
            "tensor(0.0618, grad_fn=<MseLossBackward>)\n"
          ],
          "name": "stdout"
        }
      ]
    },
    {
      "cell_type": "markdown",
      "metadata": {
        "id": "4c8dde32"
      },
      "source": [
        "# Logistic Regression"
      ],
      "id": "4c8dde32"
    },
    {
      "cell_type": "code",
      "metadata": {
        "id": "799c25f2"
      },
      "source": [
        "import matplotlib.pyplot as plt\n",
        "import torchvision\n",
        "from torch.nn.functional import relu, softmax, cross_entropy\n",
        "from torchvision.datasets import MNIST\n",
        "from torchvision.transforms import transforms\n",
        "from torch.utils.data.sampler import SubsetRandomSampler"
      ],
      "id": "799c25f2",
      "execution_count": null,
      "outputs": []
    },
    {
      "cell_type": "code",
      "metadata": {
        "id": "d69c951b"
      },
      "source": [
        "mnist = MNIST(root='./data/', download=True, transform=transforms.ToTensor())"
      ],
      "id": "d69c951b",
      "execution_count": null,
      "outputs": []
    },
    {
      "cell_type": "code",
      "metadata": {
        "id": "4926deec"
      },
      "source": [
        "mnist"
      ],
      "id": "4926deec",
      "execution_count": null,
      "outputs": []
    },
    {
      "cell_type": "code",
      "metadata": {
        "id": "fcd95518"
      },
      "source": [
        "def train_val_split(n, val_fraction=0.2):\n",
        "    nval = int(n * val_fraction)\n",
        "    idx = np.random.permutation(n)\n",
        "    return idx[nval:], idx[:nval]"
      ],
      "id": "fcd95518",
      "execution_count": null,
      "outputs": []
    },
    {
      "cell_type": "code",
      "metadata": {
        "id": "6b668d31"
      },
      "source": [
        "train_idx, val_idx = train_val_split(len(mnist))"
      ],
      "id": "6b668d31",
      "execution_count": null,
      "outputs": []
    },
    {
      "cell_type": "code",
      "metadata": {
        "id": "88c2be4e"
      },
      "source": [
        "print(len(train_idx))\n",
        "print(len(val_idx))"
      ],
      "id": "88c2be4e",
      "execution_count": null,
      "outputs": []
    },
    {
      "cell_type": "code",
      "metadata": {
        "id": "15a62bb9"
      },
      "source": [
        "train_sampler = SubsetRandomSampler(train_idx)\n",
        "val_sampler = SubsetRandomSampler(val_idx)\n",
        "\n",
        "train_loader = DataLoader(mnist, 32, sampler=train_sampler)\n",
        "val_loader = DataLoader(mnist, 32, sampler=val_sampler)"
      ],
      "id": "15a62bb9",
      "execution_count": null,
      "outputs": []
    },
    {
      "cell_type": "code",
      "metadata": {
        "id": "551d0669"
      },
      "source": [
        "class MNISTClassifier(nn.Module):\n",
        "    def __init__(self):\n",
        "        super().__init__()\n",
        "        \n",
        "        self.linear = nn.Linear(28*28, 10)\n",
        "    \n",
        "    def forward(self, xb):\n",
        "        xb = xb.view(-1, 784)\n",
        "        output = self.linear(xb)\n",
        "        return output"
      ],
      "id": "551d0669",
      "execution_count": null,
      "outputs": []
    },
    {
      "cell_type": "code",
      "metadata": {
        "id": "42361a31"
      },
      "source": [
        "model = MNISTClassifier()"
      ],
      "id": "42361a31",
      "execution_count": null,
      "outputs": []
    },
    {
      "cell_type": "code",
      "metadata": {
        "id": "f87033d2"
      },
      "source": [
        "print(model.linear.weight.shape)\n",
        "print(model.linear.bias.shape)"
      ],
      "id": "f87033d2",
      "execution_count": null,
      "outputs": []
    },
    {
      "cell_type": "code",
      "metadata": {
        "id": "04da545d"
      },
      "source": [
        "optimizer = torch.optim.SGD(model.parameters(), lr=0.001)"
      ],
      "id": "04da545d",
      "execution_count": null,
      "outputs": []
    },
    {
      "cell_type": "code",
      "metadata": {
        "id": "8c915dd0"
      },
      "source": [
        "def accuracy(pred, label):\n",
        "    _, predictions = torch.max(pred, dim=1)\n",
        "    return torch.sum(predictions == label).item() / len(pred)"
      ],
      "id": "8c915dd0",
      "execution_count": null,
      "outputs": []
    },
    {
      "cell_type": "code",
      "metadata": {
        "id": "879c1ada"
      },
      "source": [
        "def train_batch(model, loss_func, bx, by, optimizer, metric=accuracy):\n",
        "    output = model(bx)       \n",
        "    loss = cross_entropy(output, by)\n",
        "\n",
        "    with torch.no_grad():\n",
        "        loss.backward()\n",
        "        optimizer.step()\n",
        "        optimizer.zero_grad()\n",
        "    \n",
        "    result = metric(output, by)\n",
        "    return loss.item(), len(bx), result"
      ],
      "id": "879c1ada",
      "execution_count": null,
      "outputs": []
    },
    {
      "cell_type": "code",
      "metadata": {
        "id": "d5f91a3e"
      },
      "source": [
        "def evaluate(model, loss_func, validation_data, optimizer, metric=accuracy):\n",
        "    results = [train_batch(model, loss_func, bx, by, optimizer, metric) for bx, by in validation_data]\n",
        "    losses, lens, results = zip(*results)\n",
        "    total_data = np.sum(lens)\n",
        "    avg_loss = np.sum(np.multiply(losses, lens)) / total_data\n",
        "    avg_result = np.sum(np.multiply(results, lens)) / total_data\n",
        "    \n",
        "    return avg_loss, total_data, avg_result"
      ],
      "id": "d5f91a3e",
      "execution_count": null,
      "outputs": []
    },
    {
      "cell_type": "code",
      "metadata": {
        "id": "6b3892f3"
      },
      "source": [
        "def fit(model, epochs, loss_func, optimizer, train, validation, metric=accuracy):\n",
        "    for e in (range(epochs)):\n",
        "        for bx, by in train:\n",
        "            loss, _, _ = train_batch(model, loss_func, bx, by, optimizer, metric)\n",
        "\n",
        "        val_loss, _, val_result = evaluate(model, loss_func, validation, optimizer, metric)\n",
        "        print('Epoch {}/{}: Training Loss: {:.2f}, Validation Loss: {:.2f}, Validation Metric: {:.2f}'.format(e+1, epochs, loss, val_loss, val_result))"
      ],
      "id": "6b3892f3",
      "execution_count": null,
      "outputs": []
    },
    {
      "cell_type": "code",
      "metadata": {
        "id": "d7ce4815"
      },
      "source": [
        "fit(model, 10, cross_entropy, optimizer, train_loader, val_loader)"
      ],
      "id": "d7ce4815",
      "execution_count": null,
      "outputs": []
    },
    {
      "cell_type": "markdown",
      "metadata": {
        "id": "88603467"
      },
      "source": [
        "# A Simple Neural Network"
      ],
      "id": "88603467"
    },
    {
      "cell_type": "code",
      "metadata": {
        "id": "d9bd2661"
      },
      "source": [
        "class MNISTNetwork(nn.Module):\n",
        "    def __init__(self):\n",
        "        super().__init__()\n",
        "        \n",
        "        self.linear1 = nn.Linear(in_features=28*28, out_features=128, bias=True)\n",
        "        self.linear2 = nn.Linear(in_features=128, out_features=10, bias=True)\n",
        "    \n",
        "    def forward(self, bx):\n",
        "        bx = bx.view(bx.size(0), -1)\n",
        "        output = self.linear1(bx)\n",
        "        output = relu(output)\n",
        "        output = self.linear2(output)\n",
        "        \n",
        "        return output"
      ],
      "id": "d9bd2661",
      "execution_count": null,
      "outputs": []
    },
    {
      "cell_type": "code",
      "metadata": {
        "id": "f90ddfd4"
      },
      "source": [
        "model = MNISTNetwork()"
      ],
      "id": "f90ddfd4",
      "execution_count": null,
      "outputs": []
    },
    {
      "cell_type": "code",
      "metadata": {
        "id": "83788f45"
      },
      "source": [
        "optimizer = Adam(model.parameters(), lr=0.001, betas=(0.9, 0.999))"
      ],
      "id": "83788f45",
      "execution_count": null,
      "outputs": []
    },
    {
      "cell_type": "code",
      "metadata": {
        "id": "c3325a25"
      },
      "source": [
        "fit(model, 10, cross_entropy, optimizer, train_loader, val_loader)"
      ],
      "id": "c3325a25",
      "execution_count": null,
      "outputs": []
    },
    {
      "cell_type": "code",
      "metadata": {
        "id": "d78c4889"
      },
      "source": [
        ""
      ],
      "id": "d78c4889",
      "execution_count": null,
      "outputs": []
    }
  ]
}