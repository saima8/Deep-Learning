{
  "nbformat": 4,
  "nbformat_minor": 0,
  "metadata": {
    "colab": {
      "name": "Keras Syntax basics.ipynb",
      "provenance": [],
      "authorship_tag": "ABX9TyMxDU2qiGHj9W15pH8TyOQq",
      "include_colab_link": true
    },
    "kernelspec": {
      "name": "python3",
      "display_name": "Python 3"
    },
    "language_info": {
      "name": "python"
    }
  },
  "cells": [
    {
      "cell_type": "markdown",
      "metadata": {
        "id": "view-in-github",
        "colab_type": "text"
      },
      "source": [
        "<a href=\"https://colab.research.google.com/github/saima8/Deep-Learning/blob/main/Keras_Syntax_basics.ipynb\" target=\"_parent\"><img src=\"https://colab.research.google.com/assets/colab-badge.svg\" alt=\"Open In Colab\"/></a>"
      ]
    },
    {
      "cell_type": "code",
      "metadata": {
        "id": "uCfK6apn8khr"
      },
      "source": [
        "import pandas as pd\n",
        "import numpy as np\n",
        "\n",
        "import seaborn as sns"
      ],
      "execution_count": null,
      "outputs": []
    },
    {
      "cell_type": "code",
      "metadata": {
        "colab": {
          "base_uri": "https://localhost:8080/",
          "height": 204
        },
        "id": "F8IUl0bV9loV",
        "outputId": "f49c72df-4215-404c-a850-e7ae8989f035"
      },
      "source": [
        "df = pd.read_csv('/content/fake_reg.csv')\n",
        "df.head()"
      ],
      "execution_count": null,
      "outputs": [
        {
          "output_type": "execute_result",
          "data": {
            "text/html": [
              "<div>\n",
              "<style scoped>\n",
              "    .dataframe tbody tr th:only-of-type {\n",
              "        vertical-align: middle;\n",
              "    }\n",
              "\n",
              "    .dataframe tbody tr th {\n",
              "        vertical-align: top;\n",
              "    }\n",
              "\n",
              "    .dataframe thead th {\n",
              "        text-align: right;\n",
              "    }\n",
              "</style>\n",
              "<table border=\"1\" class=\"dataframe\">\n",
              "  <thead>\n",
              "    <tr style=\"text-align: right;\">\n",
              "      <th></th>\n",
              "      <th>price</th>\n",
              "      <th>feature1</th>\n",
              "      <th>feature2</th>\n",
              "    </tr>\n",
              "  </thead>\n",
              "  <tbody>\n",
              "    <tr>\n",
              "      <th>0</th>\n",
              "      <td>461.527929</td>\n",
              "      <td>999.787558</td>\n",
              "      <td>999.766096</td>\n",
              "    </tr>\n",
              "    <tr>\n",
              "      <th>1</th>\n",
              "      <td>548.130011</td>\n",
              "      <td>998.861615</td>\n",
              "      <td>1001.042403</td>\n",
              "    </tr>\n",
              "    <tr>\n",
              "      <th>2</th>\n",
              "      <td>410.297162</td>\n",
              "      <td>1000.070267</td>\n",
              "      <td>998.844015</td>\n",
              "    </tr>\n",
              "    <tr>\n",
              "      <th>3</th>\n",
              "      <td>540.382220</td>\n",
              "      <td>999.952251</td>\n",
              "      <td>1000.440940</td>\n",
              "    </tr>\n",
              "    <tr>\n",
              "      <th>4</th>\n",
              "      <td>546.024553</td>\n",
              "      <td>1000.446011</td>\n",
              "      <td>1000.338531</td>\n",
              "    </tr>\n",
              "  </tbody>\n",
              "</table>\n",
              "</div>"
            ],
            "text/plain": [
              "        price     feature1     feature2\n",
              "0  461.527929   999.787558   999.766096\n",
              "1  548.130011   998.861615  1001.042403\n",
              "2  410.297162  1000.070267   998.844015\n",
              "3  540.382220   999.952251  1000.440940\n",
              "4  546.024553  1000.446011  1000.338531"
            ]
          },
          "metadata": {
            "tags": []
          },
          "execution_count": 39
        }
      ]
    },
    {
      "cell_type": "code",
      "metadata": {
        "colab": {
          "base_uri": "https://localhost:8080/",
          "height": 567
        },
        "id": "Dbioraum_izz",
        "outputId": "5398ccbc-732c-4e9a-a78a-4329195146da"
      },
      "source": [
        "sns.pairplot(df)"
      ],
      "execution_count": null,
      "outputs": [
        {
          "output_type": "execute_result",
          "data": {
            "text/plain": [
              "<seaborn.axisgrid.PairGrid at 0x7f5da975ef10>"
            ]
          },
          "metadata": {
            "tags": []
          },
          "execution_count": 40
        },
        {
          "output_type": "display_data",
          "data": {
            "image/png": "[encoded data removed]",
            "text/plain": [
              "<Figure size 540x540 with 12 Axes>"
            ]
          },
          "metadata": {
            "tags": [],
            "needs_background": "light"
          }
        }
      ]
    },
    {
      "cell_type": "code",
      "metadata": {
        "id": "303vqtWj_-NB"
      },
      "source": [
        "from sklearn.model_selection import train_test_split\n",
        "\n",
        "X = df[['feature1', 'feature2']].values\n",
        "y = df['price'].values"
      ],
      "execution_count": null,
      "outputs": []
    },
    {
      "cell_type": "code",
      "metadata": {
        "colab": {
          "base_uri": "https://localhost:8080/"
        },
        "id": "tDaQjb1oAmRi",
        "outputId": "5a2d060b-94c8-4f26-b642-23f0ffce72b0"
      },
      "source": [
        "X"
      ],
      "execution_count": null,
      "outputs": [
        {
          "output_type": "execute_result",
          "data": {
            "text/plain": [
              "array([[ 999.78755752,  999.7660962 ],\n",
              "       [ 998.86161491, 1001.04240315],\n",
              "       [1000.07026691,  998.84401463],\n",
              "       ...,\n",
              "       [1001.45164617,  998.84760554],\n",
              "       [1000.77102275,  998.56285086],\n",
              "       [ 999.2322436 , 1001.45140713]])"
            ]
          },
          "metadata": {
            "tags": []
          },
          "execution_count": 42
        }
      ]
    },
    {
      "cell_type": "code",
      "metadata": {
        "id": "KTJjw8hKAtJI"
      },
      "source": [
        "X_train, X_test, y_train, y_test = train_test_split( X, y, test_size=0.33, random_state=42)"
      ],
      "execution_count": null,
      "outputs": []
    },
    {
      "cell_type": "code",
      "metadata": {
        "colab": {
          "base_uri": "https://localhost:8080/"
        },
        "id": "5nPr-DQcBalp",
        "outputId": "2abc70b9-38e5-4900-a1f3-104f8edd832e"
      },
      "source": [
        "X_train.shape"
      ],
      "execution_count": null,
      "outputs": [
        {
          "output_type": "execute_result",
          "data": {
            "text/plain": [
              "(670, 2)"
            ]
          },
          "metadata": {
            "tags": []
          },
          "execution_count": 44
        }
      ]
    },
    {
      "cell_type": "code",
      "metadata": {
        "colab": {
          "base_uri": "https://localhost:8080/"
        },
        "id": "XWkspwCvBcHo",
        "outputId": "19d385df-f5be-450e-cb36-bba06a3a59ec"
      },
      "source": [
        "X_test.shape"
      ],
      "execution_count": null,
      "outputs": [
        {
          "output_type": "execute_result",
          "data": {
            "text/plain": [
              "(330, 2)"
            ]
          },
          "metadata": {
            "tags": []
          },
          "execution_count": 45
        }
      ]
    },
    {
      "cell_type": "code",
      "metadata": {
        "id": "kDUeU4l5BeeQ"
      },
      "source": [
        "from sklearn.preprocessing import MinMaxScaler"
      ],
      "execution_count": null,
      "outputs": []
    },
    {
      "cell_type": "code",
      "metadata": {
        "colab": {
          "base_uri": "https://localhost:8080/"
        },
        "id": "S4Fu-K8pBwqG",
        "outputId": "501eb09e-cfd0-4433-c321-8dd78519fa33"
      },
      "source": [
        "scaler = MinMaxScaler()\n",
        "scaler.fit(X_train)"
      ],
      "execution_count": null,
      "outputs": [
        {
          "output_type": "execute_result",
          "data": {
            "text/plain": [
              "MinMaxScaler(copy=True, feature_range=(0, 1))"
            ]
          },
          "metadata": {
            "tags": []
          },
          "execution_count": 47
        }
      ]
    },
    {
      "cell_type": "code",
      "metadata": {
        "id": "fuKMjd4nCQ40"
      },
      "source": [
        "X_train = scaler.transform(X_train)\n",
        "X_test = scaler.transform(X_test)"
      ],
      "execution_count": null,
      "outputs": []
    },
    {
      "cell_type": "code",
      "metadata": {
        "colab": {
          "base_uri": "https://localhost:8080/"
        },
        "id": "hpfxF-1aC104",
        "outputId": "de51bb08-e4e4-4762-d28d-df5cd1470e83"
      },
      "source": [
        "print(X_train.max())\n",
        "print(X_train.min())"
      ],
      "execution_count": null,
      "outputs": [
        {
          "output_type": "stream",
          "text": [
            "1.0\n",
            "0.0\n"
          ],
          "name": "stdout"
        }
      ]
    },
    {
      "cell_type": "code",
      "metadata": {
        "id": "qY-Vhp0xC_AH"
      },
      "source": [
        "from tensorflow.keras.models import Sequential\n",
        "from tensorflow.keras.layers import Dense"
      ],
      "execution_count": null,
      "outputs": []
    },
    {
      "cell_type": "code",
      "metadata": {
        "id": "3OwnT6MMD1wa"
      },
      "source": [
        "# help(Sequential)"
      ],
      "execution_count": null,
      "outputs": []
    },
    {
      "cell_type": "code",
      "metadata": {
        "id": "15WPbTB6D_50"
      },
      "source": [
        "# model = Sequential([Dense(4,activation='relu'), Dense(2, activation='relu'), Dense(1)])"
      ],
      "execution_count": null,
      "outputs": []
    },
    {
      "cell_type": "code",
      "metadata": {
        "id": "ndEgt9FBFNKh"
      },
      "source": [
        "#Alternate way \n",
        "\n",
        "model = Sequential()\n",
        "\n",
        "model.add(Dense(4,activation='relu'))\n",
        "model.add(Dense(4,activation='relu'))\n",
        "model.add(Dense(4,activation='relu'))\n",
        "\n",
        "model.add(Dense(1))\n",
        "\n",
        "model.compile(optimizer='rmsprop', loss='mse')"
      ],
      "execution_count": null,
      "outputs": []
    },
    {
      "cell_type": "code",
      "metadata": {
        "colab": {
          "base_uri": "https://localhost:8080/"
        },
        "id": "UugFN2L7FsXM",
        "outputId": "3551ab91-10c8-470e-a9bb-52a005fcf652"
      },
      "source": [
        "model.fit(x=X_train, y=y_train, epochs=250)"
      ],
      "execution_count": null,
      "outputs": [
        {
          "output_type": "stream",
          "text": [
            "Epoch 1/250\n",
            "21/21 [==============================] - 1s 1ms/step - loss: 256655.3750\n",
            "Epoch 2/250\n",
            "21/21 [==============================] - 0s 1ms/step - loss: 256551.9688\n",
            "Epoch 3/250\n",
            "21/21 [==============================] - 0s 1ms/step - loss: 256452.9219\n",
            "Epoch 4/250\n",
            "21/21 [==============================] - 0s 1ms/step - loss: 256346.2969\n",
            "Epoch 5/250\n",
            "21/21 [==============================] - 0s 1ms/step - loss: 256233.3438\n",
            "Epoch 6/250\n",
            "21/21 [==============================] - 0s 1ms/step - loss: 256113.3906\n",
            "Epoch 7/250\n",
            "21/21 [==============================] - 0s 2ms/step - loss: 255985.0469\n",
            "Epoch 8/250\n",
            "21/21 [==============================] - 0s 1ms/step - loss: 255847.9062\n",
            "Epoch 9/250\n",
            "21/21 [==============================] - 0s 1ms/step - loss: 255702.6562\n",
            "Epoch 10/250\n",
            "21/21 [==============================] - 0s 1ms/step - loss: 255548.6562\n",
            "Epoch 11/250\n",
            "21/21 [==============================] - 0s 1ms/step - loss: 255380.8906\n",
            "Epoch 12/250\n",
            "21/21 [==============================] - 0s 1ms/step - loss: 255203.9844\n",
            "Epoch 13/250\n",
            "21/21 [==============================] - 0s 2ms/step - loss: 255018.9062\n",
            "Epoch 14/250\n",
            "21/21 [==============================] - 0s 1ms/step - loss: 254823.4688\n",
            "Epoch 15/250\n",
            "21/21 [==============================] - 0s 1ms/step - loss: 254615.4062\n",
            "Epoch 16/250\n",
            "21/21 [==============================] - 0s 2ms/step - loss: 254390.0938\n",
            "Epoch 17/250\n",
            "21/21 [==============================] - 0s 1ms/step - loss: 254149.5469\n",
            "Epoch 18/250\n",
            "21/21 [==============================] - 0s 1ms/step - loss: 253891.6562\n",
            "Epoch 19/250\n",
            "21/21 [==============================] - 0s 1ms/step - loss: 253615.9531\n",
            "Epoch 20/250\n",
            "21/21 [==============================] - 0s 1ms/step - loss: 253320.9531\n",
            "Epoch 21/250\n",
            "21/21 [==============================] - 0s 2ms/step - loss: 253005.5625\n",
            "Epoch 22/250\n",
            "21/21 [==============================] - 0s 1ms/step - loss: 252671.9219\n",
            "Epoch 23/250\n",
            "21/21 [==============================] - 0s 1ms/step - loss: 252316.2344\n",
            "Epoch 24/250\n",
            "21/21 [==============================] - 0s 1ms/step - loss: 251936.7656\n",
            "Epoch 25/250\n",
            "21/21 [==============================] - 0s 2ms/step - loss: 251533.0156\n",
            "Epoch 26/250\n",
            "21/21 [==============================] - 0s 1ms/step - loss: 251106.1562\n",
            "Epoch 27/250\n",
            "21/21 [==============================] - 0s 1ms/step - loss: 250656.6719\n",
            "Epoch 28/250\n",
            "21/21 [==============================] - 0s 2ms/step - loss: 250180.2031\n",
            "Epoch 29/250\n",
            "21/21 [==============================] - 0s 1ms/step - loss: 249674.8438\n",
            "Epoch 30/250\n",
            "21/21 [==============================] - 0s 1ms/step - loss: 249142.3750\n",
            "Epoch 31/250\n",
            "21/21 [==============================] - 0s 1ms/step - loss: 248582.2812\n",
            "Epoch 32/250\n",
            "21/21 [==============================] - 0s 1ms/step - loss: 247991.9688\n",
            "Epoch 33/250\n",
            "21/21 [==============================] - 0s 1ms/step - loss: 247371.0781\n",
            "Epoch 34/250\n",
            "21/21 [==============================] - 0s 1ms/step - loss: 246714.9688\n",
            "Epoch 35/250\n",
            "21/21 [==============================] - 0s 1ms/step - loss: 246029.6562\n",
            "Epoch 36/250\n",
            "21/21 [==============================] - 0s 1ms/step - loss: 245307.1250\n",
            "Epoch 37/250\n",
            "21/21 [==============================] - 0s 1ms/step - loss: 244551.8750\n",
            "Epoch 38/250\n",
            "21/21 [==============================] - 0s 1ms/step - loss: 243761.1719\n",
            "Epoch 39/250\n",
            "21/21 [==============================] - 0s 1ms/step - loss: 242932.5781\n",
            "Epoch 40/250\n",
            "21/21 [==============================] - 0s 1ms/step - loss: 242067.6719\n",
            "Epoch 41/250\n",
            "21/21 [==============================] - 0s 1ms/step - loss: 241163.2500\n",
            "Epoch 42/250\n",
            "21/21 [==============================] - 0s 2ms/step - loss: 240213.5938\n",
            "Epoch 43/250\n",
            "21/21 [==============================] - 0s 2ms/step - loss: 239229.7500\n",
            "Epoch 44/250\n",
            "21/21 [==============================] - 0s 1ms/step - loss: 238203.0312\n",
            "Epoch 45/250\n",
            "21/21 [==============================] - 0s 1ms/step - loss: 237135.4688\n",
            "Epoch 46/250\n",
            "21/21 [==============================] - 0s 1ms/step - loss: 236017.4062\n",
            "Epoch 47/250\n",
            "21/21 [==============================] - 0s 1ms/step - loss: 234851.2500\n",
            "Epoch 48/250\n",
            "21/21 [==============================] - 0s 1ms/step - loss: 233646.7812\n",
            "Epoch 49/250\n",
            "21/21 [==============================] - 0s 1ms/step - loss: 232397.5625\n",
            "Epoch 50/250\n",
            "21/21 [==============================] - 0s 1ms/step - loss: 231093.4375\n",
            "Epoch 51/250\n",
            "21/21 [==============================] - 0s 1ms/step - loss: 229746.2656\n",
            "Epoch 52/250\n",
            "21/21 [==============================] - 0s 1ms/step - loss: 228348.9219\n",
            "Epoch 53/250\n",
            "21/21 [==============================] - 0s 1ms/step - loss: 226893.9531\n",
            "Epoch 54/250\n",
            "21/21 [==============================] - 0s 2ms/step - loss: 225390.2812\n",
            "Epoch 55/250\n",
            "21/21 [==============================] - 0s 1ms/step - loss: 223834.8594\n",
            "Epoch 56/250\n",
            "21/21 [==============================] - 0s 1ms/step - loss: 222229.0312\n",
            "Epoch 57/250\n",
            "21/21 [==============================] - 0s 1ms/step - loss: 220566.9531\n",
            "Epoch 58/250\n",
            "21/21 [==============================] - 0s 2ms/step - loss: 218849.1406\n",
            "Epoch 59/250\n",
            "21/21 [==============================] - 0s 2ms/step - loss: 217077.2031\n",
            "Epoch 60/250\n",
            "21/21 [==============================] - 0s 1ms/step - loss: 215242.6094\n",
            "Epoch 61/250\n",
            "21/21 [==============================] - 0s 1ms/step - loss: 213361.9375\n",
            "Epoch 62/250\n",
            "21/21 [==============================] - 0s 1ms/step - loss: 211424.6250\n",
            "Epoch 63/250\n",
            "21/21 [==============================] - 0s 1ms/step - loss: 209421.1094\n",
            "Epoch 64/250\n",
            "21/21 [==============================] - 0s 1ms/step - loss: 207355.9219\n",
            "Epoch 65/250\n",
            "21/21 [==============================] - 0s 1ms/step - loss: 205243.2500\n",
            "Epoch 66/250\n",
            "21/21 [==============================] - 0s 1ms/step - loss: 203065.0469\n",
            "Epoch 67/250\n",
            "21/21 [==============================] - 0s 1ms/step - loss: 200818.7500\n",
            "Epoch 68/250\n",
            "21/21 [==============================] - 0s 2ms/step - loss: 198521.9219\n",
            "Epoch 69/250\n",
            "21/21 [==============================] - 0s 1ms/step - loss: 196160.1719\n",
            "Epoch 70/250\n",
            "21/21 [==============================] - 0s 2ms/step - loss: 193733.1406\n",
            "Epoch 71/250\n",
            "21/21 [==============================] - 0s 2ms/step - loss: 191254.3594\n",
            "Epoch 72/250\n",
            "21/21 [==============================] - 0s 2ms/step - loss: 188715.8750\n",
            "Epoch 73/250\n",
            "21/21 [==============================] - 0s 2ms/step - loss: 186114.8594\n",
            "Epoch 74/250\n",
            "21/21 [==============================] - 0s 1ms/step - loss: 183450.0469\n",
            "Epoch 75/250\n",
            "21/21 [==============================] - 0s 2ms/step - loss: 180726.2969\n",
            "Epoch 76/250\n",
            "21/21 [==============================] - 0s 1ms/step - loss: 177957.2969\n",
            "Epoch 77/250\n",
            "21/21 [==============================] - 0s 1ms/step - loss: 175108.4375\n",
            "Epoch 78/250\n",
            "21/21 [==============================] - 0s 1ms/step - loss: 172192.4062\n",
            "Epoch 79/250\n",
            "21/21 [==============================] - 0s 1ms/step - loss: 169213.3438\n",
            "Epoch 80/250\n",
            "21/21 [==============================] - 0s 1ms/step - loss: 166187.1875\n",
            "Epoch 81/250\n",
            "21/21 [==============================] - 0s 1ms/step - loss: 163110.2344\n",
            "Epoch 82/250\n",
            "21/21 [==============================] - 0s 1ms/step - loss: 159981.1719\n",
            "Epoch 83/250\n",
            "21/21 [==============================] - 0s 1ms/step - loss: 156786.7969\n",
            "Epoch 84/250\n",
            "21/21 [==============================] - 0s 2ms/step - loss: 153540.3281\n",
            "Epoch 85/250\n",
            "21/21 [==============================] - 0s 2ms/step - loss: 150239.1406\n",
            "Epoch 86/250\n",
            "21/21 [==============================] - 0s 2ms/step - loss: 146884.7188\n",
            "Epoch 87/250\n",
            "21/21 [==============================] - 0s 2ms/step - loss: 143460.8281\n",
            "Epoch 88/250\n",
            "21/21 [==============================] - 0s 2ms/step - loss: 140009.9219\n",
            "Epoch 89/250\n",
            "21/21 [==============================] - 0s 1ms/step - loss: 136519.0000\n",
            "Epoch 90/250\n",
            "21/21 [==============================] - 0s 1ms/step - loss: 132995.4688\n",
            "Epoch 91/250\n",
            "21/21 [==============================] - 0s 1ms/step - loss: 129394.3984\n",
            "Epoch 92/250\n",
            "21/21 [==============================] - 0s 1ms/step - loss: 125768.2188\n",
            "Epoch 93/250\n",
            "21/21 [==============================] - 0s 1ms/step - loss: 122117.1250\n",
            "Epoch 94/250\n",
            "21/21 [==============================] - 0s 1ms/step - loss: 118418.4609\n",
            "Epoch 95/250\n",
            "21/21 [==============================] - 0s 1ms/step - loss: 114672.2969\n",
            "Epoch 96/250\n",
            "21/21 [==============================] - 0s 1ms/step - loss: 110899.0703\n",
            "Epoch 97/250\n",
            "21/21 [==============================] - 0s 2ms/step - loss: 107111.2734\n",
            "Epoch 98/250\n",
            "21/21 [==============================] - 0s 2ms/step - loss: 103322.6953\n",
            "Epoch 99/250\n",
            "21/21 [==============================] - 0s 2ms/step - loss: 99465.7422\n",
            "Epoch 100/250\n",
            "21/21 [==============================] - 0s 2ms/step - loss: 95625.0156\n",
            "Epoch 101/250\n",
            "21/21 [==============================] - 0s 1ms/step - loss: 91750.4688\n",
            "Epoch 102/250\n",
            "21/21 [==============================] - 0s 1ms/step - loss: 87898.3438\n",
            "Epoch 103/250\n",
            "21/21 [==============================] - 0s 2ms/step - loss: 84042.9688\n",
            "Epoch 104/250\n",
            "21/21 [==============================] - 0s 1ms/step - loss: 80169.6172\n",
            "Epoch 105/250\n",
            "21/21 [==============================] - 0s 2ms/step - loss: 76344.6406\n",
            "Epoch 106/250\n",
            "21/21 [==============================] - 0s 2ms/step - loss: 72531.7266\n",
            "Epoch 107/250\n",
            "21/21 [==============================] - 0s 1ms/step - loss: 68724.6172\n",
            "Epoch 108/250\n",
            "21/21 [==============================] - 0s 2ms/step - loss: 64931.8672\n",
            "Epoch 109/250\n",
            "21/21 [==============================] - 0s 1ms/step - loss: 61165.2539\n",
            "Epoch 110/250\n",
            "21/21 [==============================] - 0s 1ms/step - loss: 57451.3906\n",
            "Epoch 111/250\n",
            "21/21 [==============================] - 0s 1ms/step - loss: 53780.9062\n",
            "Epoch 112/250\n",
            "21/21 [==============================] - 0s 1ms/step - loss: 50146.3750\n",
            "Epoch 113/250\n",
            "21/21 [==============================] - 0s 2ms/step - loss: 46595.9609\n",
            "Epoch 114/250\n",
            "21/21 [==============================] - 0s 2ms/step - loss: 43112.5742\n",
            "Epoch 115/250\n",
            "21/21 [==============================] - 0s 2ms/step - loss: 39687.5664\n",
            "Epoch 116/250\n",
            "21/21 [==============================] - 0s 2ms/step - loss: 36354.0469\n",
            "Epoch 117/250\n",
            "21/21 [==============================] - 0s 1ms/step - loss: 33114.0469\n",
            "Epoch 118/250\n",
            "21/21 [==============================] - 0s 2ms/step - loss: 29999.4023\n",
            "Epoch 119/250\n",
            "21/21 [==============================] - 0s 2ms/step - loss: 26983.8867\n",
            "Epoch 120/250\n",
            "21/21 [==============================] - 0s 2ms/step - loss: 24093.8926\n",
            "Epoch 121/250\n",
            "21/21 [==============================] - 0s 2ms/step - loss: 21328.5820\n",
            "Epoch 122/250\n",
            "21/21 [==============================] - 0s 1ms/step - loss: 18719.6660\n",
            "Epoch 123/250\n",
            "21/21 [==============================] - 0s 2ms/step - loss: 16242.8535\n",
            "Epoch 124/250\n",
            "21/21 [==============================] - 0s 1ms/step - loss: 13922.4033\n",
            "Epoch 125/250\n",
            "21/21 [==============================] - 0s 2ms/step - loss: 11805.5361\n",
            "Epoch 126/250\n",
            "21/21 [==============================] - 0s 1ms/step - loss: 9865.5879\n",
            "Epoch 127/250\n",
            "21/21 [==============================] - 0s 1ms/step - loss: 8127.6836\n",
            "Epoch 128/250\n",
            "21/21 [==============================] - 0s 2ms/step - loss: 6595.9619\n",
            "Epoch 129/250\n",
            "21/21 [==============================] - 0s 2ms/step - loss: 5300.1938\n",
            "Epoch 130/250\n",
            "21/21 [==============================] - 0s 2ms/step - loss: 4224.8706\n",
            "Epoch 131/250\n",
            "21/21 [==============================] - 0s 2ms/step - loss: 3359.5796\n",
            "Epoch 132/250\n",
            "21/21 [==============================] - 0s 2ms/step - loss: 2748.6438\n",
            "Epoch 133/250\n",
            "21/21 [==============================] - 0s 2ms/step - loss: 2368.0935\n",
            "Epoch 134/250\n",
            "21/21 [==============================] - 0s 1ms/step - loss: 2181.2878\n",
            "Epoch 135/250\n",
            "21/21 [==============================] - 0s 1ms/step - loss: 2116.1892\n",
            "Epoch 136/250\n",
            "21/21 [==============================] - 0s 2ms/step - loss: 2094.4680\n",
            "Epoch 137/250\n",
            "21/21 [==============================] - 0s 1ms/step - loss: 2073.3823\n",
            "Epoch 138/250\n",
            "21/21 [==============================] - 0s 1ms/step - loss: 2057.5850\n",
            "Epoch 139/250\n",
            "21/21 [==============================] - 0s 2ms/step - loss: 2038.5002\n",
            "Epoch 140/250\n",
            "21/21 [==============================] - 0s 2ms/step - loss: 2018.7067\n",
            "Epoch 141/250\n",
            "21/21 [==============================] - 0s 1ms/step - loss: 1996.2083\n",
            "Epoch 142/250\n",
            "21/21 [==============================] - 0s 1ms/step - loss: 1976.2750\n",
            "Epoch 143/250\n",
            "21/21 [==============================] - 0s 1ms/step - loss: 1957.7213\n",
            "Epoch 144/250\n",
            "21/21 [==============================] - 0s 2ms/step - loss: 1937.0660\n",
            "Epoch 145/250\n",
            "21/21 [==============================] - 0s 2ms/step - loss: 1918.3804\n",
            "Epoch 146/250\n",
            "21/21 [==============================] - 0s 1ms/step - loss: 1900.7168\n",
            "Epoch 147/250\n",
            "21/21 [==============================] - 0s 2ms/step - loss: 1882.2584\n",
            "Epoch 148/250\n",
            "21/21 [==============================] - 0s 2ms/step - loss: 1864.0558\n",
            "Epoch 149/250\n",
            "21/21 [==============================] - 0s 2ms/step - loss: 1844.7006\n",
            "Epoch 150/250\n",
            "21/21 [==============================] - 0s 2ms/step - loss: 1826.9735\n",
            "Epoch 151/250\n",
            "21/21 [==============================] - 0s 2ms/step - loss: 1809.1620\n",
            "Epoch 152/250\n",
            "21/21 [==============================] - 0s 1ms/step - loss: 1789.4534\n",
            "Epoch 153/250\n",
            "21/21 [==============================] - 0s 1ms/step - loss: 1768.9841\n",
            "Epoch 154/250\n",
            "21/21 [==============================] - 0s 1ms/step - loss: 1749.3655\n",
            "Epoch 155/250\n",
            "21/21 [==============================] - 0s 2ms/step - loss: 1730.3036\n",
            "Epoch 156/250\n",
            "21/21 [==============================] - 0s 1ms/step - loss: 1710.8461\n",
            "Epoch 157/250\n",
            "21/21 [==============================] - 0s 1ms/step - loss: 1690.7623\n",
            "Epoch 158/250\n",
            "21/21 [==============================] - 0s 1ms/step - loss: 1669.1165\n",
            "Epoch 159/250\n",
            "21/21 [==============================] - 0s 1ms/step - loss: 1652.0623\n",
            "Epoch 160/250\n",
            "21/21 [==============================] - 0s 2ms/step - loss: 1632.5900\n",
            "Epoch 161/250\n",
            "21/21 [==============================] - 0s 1ms/step - loss: 1616.3774\n",
            "Epoch 162/250\n",
            "21/21 [==============================] - 0s 2ms/step - loss: 1597.4393\n",
            "Epoch 163/250\n",
            "21/21 [==============================] - 0s 2ms/step - loss: 1578.5812\n",
            "Epoch 164/250\n",
            "21/21 [==============================] - 0s 1ms/step - loss: 1558.2144\n",
            "Epoch 165/250\n",
            "21/21 [==============================] - 0s 1ms/step - loss: 1537.9490\n",
            "Epoch 166/250\n",
            "21/21 [==============================] - 0s 2ms/step - loss: 1518.3267\n",
            "Epoch 167/250\n",
            "21/21 [==============================] - 0s 1ms/step - loss: 1497.7134\n",
            "Epoch 168/250\n",
            "21/21 [==============================] - 0s 2ms/step - loss: 1477.4366\n",
            "Epoch 169/250\n",
            "21/21 [==============================] - 0s 1ms/step - loss: 1459.2545\n",
            "Epoch 170/250\n",
            "21/21 [==============================] - 0s 2ms/step - loss: 1440.8875\n",
            "Epoch 171/250\n",
            "21/21 [==============================] - 0s 1ms/step - loss: 1423.2982\n",
            "Epoch 172/250\n",
            "21/21 [==============================] - 0s 2ms/step - loss: 1406.6683\n",
            "Epoch 173/250\n",
            "21/21 [==============================] - 0s 1ms/step - loss: 1387.7815\n",
            "Epoch 174/250\n",
            "21/21 [==============================] - 0s 1ms/step - loss: 1370.0865\n",
            "Epoch 175/250\n",
            "21/21 [==============================] - 0s 2ms/step - loss: 1351.4305\n",
            "Epoch 176/250\n",
            "21/21 [==============================] - 0s 2ms/step - loss: 1333.8413\n",
            "Epoch 177/250\n",
            "21/21 [==============================] - 0s 1ms/step - loss: 1316.4788\n",
            "Epoch 178/250\n",
            "21/21 [==============================] - 0s 1ms/step - loss: 1296.9033\n",
            "Epoch 179/250\n",
            "21/21 [==============================] - 0s 1ms/step - loss: 1279.0443\n",
            "Epoch 180/250\n",
            "21/21 [==============================] - 0s 1ms/step - loss: 1258.5319\n",
            "Epoch 181/250\n",
            "21/21 [==============================] - 0s 1ms/step - loss: 1243.2571\n",
            "Epoch 182/250\n",
            "21/21 [==============================] - 0s 1ms/step - loss: 1225.2169\n",
            "Epoch 183/250\n",
            "21/21 [==============================] - 0s 1ms/step - loss: 1209.2450\n",
            "Epoch 184/250\n",
            "21/21 [==============================] - 0s 1ms/step - loss: 1192.0970\n",
            "Epoch 185/250\n",
            "21/21 [==============================] - 0s 2ms/step - loss: 1174.9451\n",
            "Epoch 186/250\n",
            "21/21 [==============================] - 0s 2ms/step - loss: 1159.9166\n",
            "Epoch 187/250\n",
            "21/21 [==============================] - 0s 2ms/step - loss: 1142.3860\n",
            "Epoch 188/250\n",
            "21/21 [==============================] - 0s 1ms/step - loss: 1122.7625\n",
            "Epoch 189/250\n",
            "21/21 [==============================] - 0s 1ms/step - loss: 1107.2063\n",
            "Epoch 190/250\n",
            "21/21 [==============================] - 0s 2ms/step - loss: 1090.3375\n",
            "Epoch 191/250\n",
            "21/21 [==============================] - 0s 2ms/step - loss: 1070.3459\n",
            "Epoch 192/250\n",
            "21/21 [==============================] - 0s 2ms/step - loss: 1053.4895\n",
            "Epoch 193/250\n",
            "21/21 [==============================] - 0s 2ms/step - loss: 1037.7217\n",
            "Epoch 194/250\n",
            "21/21 [==============================] - 0s 1ms/step - loss: 1021.3727\n",
            "Epoch 195/250\n",
            "21/21 [==============================] - 0s 1ms/step - loss: 1004.7495\n",
            "Epoch 196/250\n",
            "21/21 [==============================] - 0s 1ms/step - loss: 987.8017\n",
            "Epoch 197/250\n",
            "21/21 [==============================] - 0s 2ms/step - loss: 972.5311\n",
            "Epoch 198/250\n",
            "21/21 [==============================] - 0s 1ms/step - loss: 956.5513\n",
            "Epoch 199/250\n",
            "21/21 [==============================] - 0s 2ms/step - loss: 940.0563\n",
            "Epoch 200/250\n",
            "21/21 [==============================] - 0s 1ms/step - loss: 923.9718\n",
            "Epoch 201/250\n",
            "21/21 [==============================] - 0s 2ms/step - loss: 907.9779\n",
            "Epoch 202/250\n",
            "21/21 [==============================] - 0s 1ms/step - loss: 891.6077\n",
            "Epoch 203/250\n",
            "21/21 [==============================] - 0s 1ms/step - loss: 875.9944\n",
            "Epoch 204/250\n",
            "21/21 [==============================] - 0s 1ms/step - loss: 861.3570\n",
            "Epoch 205/250\n",
            "21/21 [==============================] - 0s 2ms/step - loss: 844.2165\n",
            "Epoch 206/250\n",
            "21/21 [==============================] - 0s 2ms/step - loss: 828.7804\n",
            "Epoch 207/250\n",
            "21/21 [==============================] - 0s 1ms/step - loss: 812.5452\n",
            "Epoch 208/250\n",
            "21/21 [==============================] - 0s 1ms/step - loss: 798.4037\n",
            "Epoch 209/250\n",
            "21/21 [==============================] - 0s 2ms/step - loss: 784.5444\n",
            "Epoch 210/250\n",
            "21/21 [==============================] - 0s 1ms/step - loss: 769.3755\n",
            "Epoch 211/250\n",
            "21/21 [==============================] - 0s 2ms/step - loss: 756.0894\n",
            "Epoch 212/250\n",
            "21/21 [==============================] - 0s 2ms/step - loss: 741.1695\n",
            "Epoch 213/250\n",
            "21/21 [==============================] - 0s 2ms/step - loss: 725.3544\n",
            "Epoch 214/250\n",
            "21/21 [==============================] - 0s 1ms/step - loss: 710.9523\n",
            "Epoch 215/250\n",
            "21/21 [==============================] - 0s 2ms/step - loss: 697.6164\n",
            "Epoch 216/250\n",
            "21/21 [==============================] - 0s 2ms/step - loss: 681.7782\n",
            "Epoch 217/250\n",
            "21/21 [==============================] - 0s 1ms/step - loss: 667.9938\n",
            "Epoch 218/250\n",
            "21/21 [==============================] - 0s 1ms/step - loss: 652.7643\n",
            "Epoch 219/250\n",
            "21/21 [==============================] - 0s 1ms/step - loss: 638.7715\n",
            "Epoch 220/250\n",
            "21/21 [==============================] - 0s 1ms/step - loss: 624.1177\n",
            "Epoch 221/250\n",
            "21/21 [==============================] - 0s 1ms/step - loss: 610.2855\n",
            "Epoch 222/250\n",
            "21/21 [==============================] - 0s 1ms/step - loss: 593.8698\n",
            "Epoch 223/250\n",
            "21/21 [==============================] - 0s 1ms/step - loss: 579.1335\n",
            "Epoch 224/250\n",
            "21/21 [==============================] - 0s 1ms/step - loss: 568.2335\n",
            "Epoch 225/250\n",
            "21/21 [==============================] - 0s 2ms/step - loss: 553.6771\n",
            "Epoch 226/250\n",
            "21/21 [==============================] - 0s 2ms/step - loss: 541.7991\n",
            "Epoch 227/250\n",
            "21/21 [==============================] - 0s 2ms/step - loss: 528.6198\n",
            "Epoch 228/250\n",
            "21/21 [==============================] - 0s 1ms/step - loss: 516.2970\n",
            "Epoch 229/250\n",
            "21/21 [==============================] - 0s 2ms/step - loss: 503.8394\n",
            "Epoch 230/250\n",
            "21/21 [==============================] - 0s 2ms/step - loss: 491.8039\n",
            "Epoch 231/250\n",
            "21/21 [==============================] - 0s 2ms/step - loss: 478.8838\n",
            "Epoch 232/250\n",
            "21/21 [==============================] - 0s 2ms/step - loss: 466.9846\n",
            "Epoch 233/250\n",
            "21/21 [==============================] - 0s 2ms/step - loss: 455.3346\n",
            "Epoch 234/250\n",
            "21/21 [==============================] - 0s 2ms/step - loss: 443.8394\n",
            "Epoch 235/250\n",
            "21/21 [==============================] - 0s 1ms/step - loss: 431.7293\n",
            "Epoch 236/250\n",
            "21/21 [==============================] - 0s 2ms/step - loss: 419.0890\n",
            "Epoch 237/250\n",
            "21/21 [==============================] - 0s 2ms/step - loss: 407.4410\n",
            "Epoch 238/250\n",
            "21/21 [==============================] - 0s 2ms/step - loss: 395.6397\n",
            "Epoch 239/250\n",
            "21/21 [==============================] - 0s 2ms/step - loss: 382.9892\n",
            "Epoch 240/250\n",
            "21/21 [==============================] - 0s 2ms/step - loss: 371.5106\n",
            "Epoch 241/250\n",
            "21/21 [==============================] - 0s 2ms/step - loss: 360.2092\n",
            "Epoch 242/250\n",
            "21/21 [==============================] - 0s 1ms/step - loss: 348.6963\n",
            "Epoch 243/250\n",
            "21/21 [==============================] - 0s 2ms/step - loss: 338.4206\n",
            "Epoch 244/250\n",
            "21/21 [==============================] - 0s 2ms/step - loss: 328.6103\n",
            "Epoch 245/250\n",
            "21/21 [==============================] - 0s 2ms/step - loss: 318.0988\n",
            "Epoch 246/250\n",
            "21/21 [==============================] - 0s 2ms/step - loss: 308.8875\n",
            "Epoch 247/250\n",
            "21/21 [==============================] - 0s 2ms/step - loss: 299.5383\n",
            "Epoch 248/250\n",
            "21/21 [==============================] - 0s 2ms/step - loss: 290.4334\n",
            "Epoch 249/250\n",
            "21/21 [==============================] - 0s 2ms/step - loss: 279.8477\n",
            "Epoch 250/250\n",
            "21/21 [==============================] - 0s 2ms/step - loss: 269.4113\n"
          ],
          "name": "stdout"
        },
        {
          "output_type": "execute_result",
          "data": {
            "text/plain": [
              "<tensorflow.python.keras.callbacks.History at 0x7f5da9196490>"
            ]
          },
          "metadata": {
            "tags": []
          },
          "execution_count": 54
        }
      ]
    },
    {
      "cell_type": "code",
      "metadata": {
        "id": "J7-W_y94MMmF"
      },
      "source": [
        "loss_df = pd.DataFrame(model.history.history)\n",
        "#loss history"
      ],
      "execution_count": null,
      "outputs": []
    },
    {
      "cell_type": "code",
      "metadata": {
        "colab": {
          "base_uri": "https://localhost:8080/",
          "height": 282
        },
        "id": "7fcNzeMbMmui",
        "outputId": "55312a21-aee6-43bc-9dd4-56765d67fec2"
      },
      "source": [
        "loss_df.plot()"
      ],
      "execution_count": null,
      "outputs": [
        {
          "output_type": "execute_result",
          "data": {
            "text/plain": [
              "<matplotlib.axes._subplots.AxesSubplot at 0x7f5da9002810>"
            ]
          },
          "metadata": {
            "tags": []
          },
          "execution_count": 56
        },
        {
          "output_type": "display_data",
          "data": {
            "image/png": "[encoded data removed]",
            "text/plain": [
              "<Figure size 432x288 with 1 Axes>"
            ]
          },
          "metadata": {
            "tags": [],
            "needs_background": "light"
          }
        }
      ]
    },
    {
      "cell_type": "code",
      "metadata": {
        "colab": {
          "base_uri": "https://localhost:8080/"
        },
        "id": "iznmomIINZLW",
        "outputId": "5c92aabd-3a26-4e15-e22e-01ed9778c8c0"
      },
      "source": [
        "model.evaluate(X_test, y_test, verbose=0)\n",
        "#mean squarred error, models loss on test sets"
      ],
      "execution_count": null,
      "outputs": [
        {
          "output_type": "execute_result",
          "data": {
            "text/plain": [
              "263.18402099609375"
            ]
          },
          "metadata": {
            "tags": []
          },
          "execution_count": 59
        }
      ]
    },
    {
      "cell_type": "code",
      "metadata": {
        "colab": {
          "base_uri": "https://localhost:8080/"
        },
        "id": "zK2Z6Hm2Oequ",
        "outputId": "3ea61a1a-b9b7-48f2-ab54-d8baaa5b5f24"
      },
      "source": [
        "model.evaluate(X_train, y_train, verbose=0)"
      ],
      "execution_count": null,
      "outputs": [
        {
          "output_type": "execute_result",
          "data": {
            "text/plain": [
              "263.0751037597656"
            ]
          },
          "metadata": {
            "tags": []
          },
          "execution_count": 60
        }
      ]
    },
    {
      "cell_type": "code",
      "metadata": {
        "colab": {
          "base_uri": "https://localhost:8080/"
        },
        "id": "zUntLcNIOoue",
        "outputId": "92bf1d66-d091-4eb0-c494-b68367ae7bce"
      },
      "source": [
        "test_predictions = model.predict(X_test)\n",
        "test_predictions"
      ],
      "execution_count": null,
      "outputs": [
        {
          "output_type": "execute_result",
          "data": {
            "text/plain": [
              "array([[422.22153],\n",
              "       [606.78845],\n",
              "       [582.30884],\n",
              "       [558.6436 ],\n",
              "       [380.4281 ],\n",
              "       [567.9187 ],\n",
              "       [506.20895],\n",
              "       [471.3006 ],\n",
              "       [539.3725 ],\n",
              "       [462.2214 ],\n",
              "       [597.07245],\n",
              "       [552.71075],\n",
              "       [433.2112 ],\n",
              "       [423.12622],\n",
              "       [639.6846 ],\n",
              "       [451.84918],\n",
              "       [516.9816 ],\n",
              "       [629.7962 ],\n",
              "       [636.47424],\n",
              "       [561.35547],\n",
              "       [357.45825],\n",
              "       [455.10062],\n",
              "       [399.52908],\n",
              "       [400.1876 ],\n",
              "       [557.99396],\n",
              "       [591.0784 ],\n",
              "       [528.3571 ],\n",
              "       [442.16476],\n",
              "       [628.3896 ],\n",
              "       [433.21646],\n",
              "       [457.30414],\n",
              "       [489.77246],\n",
              "       [450.91382],\n",
              "       [651.9738 ],\n",
              "       [444.61594],\n",
              "       [428.8622 ],\n",
              "       [513.65314],\n",
              "       [545.74835],\n",
              "       [503.5426 ],\n",
              "       [405.18964],\n",
              "       [604.6015 ],\n",
              "       [434.46164],\n",
              "       [592.3065 ],\n",
              "       [463.04895],\n",
              "       [503.82617],\n",
              "       [581.3075 ],\n",
              "       [652.5341 ],\n",
              "       [497.73758],\n",
              "       [353.01428],\n",
              "       [489.12418],\n",
              "       [518.37146],\n",
              "       [406.61444],\n",
              "       [544.5134 ],\n",
              "       [425.32785],\n",
              "       [624.36035],\n",
              "       [493.12985],\n",
              "       [603.4253 ],\n",
              "       [617.3874 ],\n",
              "       [458.1164 ],\n",
              "       [484.98856],\n",
              "       [491.46912],\n",
              "       [483.20193],\n",
              "       [658.4567 ],\n",
              "       [417.50226],\n",
              "       [672.9832 ],\n",
              "       [572.8951 ],\n",
              "       [573.5553 ],\n",
              "       [538.0416 ],\n",
              "       [488.83243],\n",
              "       [512.0298 ],\n",
              "       [386.0046 ],\n",
              "       [536.72   ],\n",
              "       [559.8126 ],\n",
              "       [535.3255 ],\n",
              "       [464.76434],\n",
              "       [531.1279 ],\n",
              "       [513.7346 ],\n",
              "       [449.4978 ],\n",
              "       [537.2865 ],\n",
              "       [627.29987],\n",
              "       [465.1281 ],\n",
              "       [561.3829 ],\n",
              "       [669.7087 ],\n",
              "       [464.54108],\n",
              "       [673.8781 ],\n",
              "       [478.40976],\n",
              "       [427.01642],\n",
              "       [573.5278 ],\n",
              "       [455.8101 ],\n",
              "       [496.29654],\n",
              "       [603.00757],\n",
              "       [455.3621 ],\n",
              "       [459.67673],\n",
              "       [445.94144],\n",
              "       [502.79565],\n",
              "       [591.7576 ],\n",
              "       [350.80472],\n",
              "       [450.60846],\n",
              "       [535.17847],\n",
              "       [514.0414 ],\n",
              "       [585.4153 ],\n",
              "       [522.15625],\n",
              "       [366.93903],\n",
              "       [573.02905],\n",
              "       [435.17352],\n",
              "       [564.5287 ],\n",
              "       [514.624  ],\n",
              "       [407.36798],\n",
              "       [549.80084],\n",
              "       [472.26428],\n",
              "       [455.9819 ],\n",
              "       [622.24896],\n",
              "       [527.7057 ],\n",
              "       [549.45197],\n",
              "       [432.28372],\n",
              "       [482.6755 ],\n",
              "       [575.54694],\n",
              "       [639.9551 ],\n",
              "       [668.22363],\n",
              "       [628.25543],\n",
              "       [553.42804],\n",
              "       [509.10077],\n",
              "       [403.71777],\n",
              "       [314.79895],\n",
              "       [487.15005],\n",
              "       [606.6247 ],\n",
              "       [401.31052],\n",
              "       [513.05255],\n",
              "       [504.77655],\n",
              "       [493.3576 ],\n",
              "       [486.1759 ],\n",
              "       [431.75452],\n",
              "       [494.89734],\n",
              "       [478.98474],\n",
              "       [593.7498 ],\n",
              "       [573.1969 ],\n",
              "       [422.60562],\n",
              "       [614.2074 ],\n",
              "       [476.9666 ],\n",
              "       [560.409  ],\n",
              "       [421.94498],\n",
              "       [528.68646],\n",
              "       [562.96313],\n",
              "       [378.29285],\n",
              "       [541.9931 ],\n",
              "       [589.2579 ],\n",
              "       [402.49716],\n",
              "       [533.87354],\n",
              "       [555.66705],\n",
              "       [466.949  ],\n",
              "       [614.7577 ],\n",
              "       [387.6004 ],\n",
              "       [476.33932],\n",
              "       [521.0038 ],\n",
              "       [396.97626],\n",
              "       [464.96646],\n",
              "       [443.8329 ],\n",
              "       [500.2103 ],\n",
              "       [377.55496],\n",
              "       [417.31302],\n",
              "       [593.1279 ],\n",
              "       [509.96667],\n",
              "       [474.4842 ],\n",
              "       [497.76575],\n",
              "       [538.7533 ],\n",
              "       [369.0277 ],\n",
              "       [523.57477],\n",
              "       [294.0833 ],\n",
              "       [505.98856],\n",
              "       [529.4779 ],\n",
              "       [491.98444],\n",
              "       [486.92114],\n",
              "       [412.2549 ],\n",
              "       [439.373  ],\n",
              "       [541.9953 ],\n",
              "       [476.69177],\n",
              "       [565.31055],\n",
              "       [487.90213],\n",
              "       [580.01105],\n",
              "       [545.9429 ],\n",
              "       [540.63837],\n",
              "       [503.45398],\n",
              "       [623.67316],\n",
              "       [551.86816],\n",
              "       [576.81476],\n",
              "       [462.08282],\n",
              "       [436.14352],\n",
              "       [429.16724],\n",
              "       [565.1795 ],\n",
              "       [591.8165 ],\n",
              "       [453.63733],\n",
              "       [494.22525],\n",
              "       [570.8199 ],\n",
              "       [519.6148 ],\n",
              "       [379.8612 ],\n",
              "       [622.2765 ],\n",
              "       [522.28174],\n",
              "       [364.69327],\n",
              "       [495.4476 ],\n",
              "       [431.83017],\n",
              "       [593.8973 ],\n",
              "       [378.0873 ],\n",
              "       [526.54425],\n",
              "       [424.4792 ],\n",
              "       [288.813  ],\n",
              "       [522.55536],\n",
              "       [376.6866 ],\n",
              "       [379.2878 ],\n",
              "       [572.9836 ],\n",
              "       [437.55414],\n",
              "       [542.3381 ],\n",
              "       [517.3621 ],\n",
              "       [499.00577],\n",
              "       [356.07098],\n",
              "       [413.95917],\n",
              "       [584.1587 ],\n",
              "       [598.07184],\n",
              "       [579.8362 ],\n",
              "       [564.92615],\n",
              "       [474.9088 ],\n",
              "       [469.5603 ],\n",
              "       [508.2607 ],\n",
              "       [460.58292],\n",
              "       [518.36707],\n",
              "       [496.4752 ],\n",
              "       [420.77405],\n",
              "       [591.0077 ],\n",
              "       [296.36337],\n",
              "       [613.1447 ],\n",
              "       [587.8861 ],\n",
              "       [360.52588],\n",
              "       [480.06528],\n",
              "       [584.63074],\n",
              "       [400.85977],\n",
              "       [467.86487],\n",
              "       [359.40646],\n",
              "       [523.1731 ],\n",
              "       [432.76447],\n",
              "       [552.2643 ],\n",
              "       [624.7062 ],\n",
              "       [532.2149 ],\n",
              "       [508.1674 ],\n",
              "       [621.3972 ],\n",
              "       [518.15686],\n",
              "       [529.02185],\n",
              "       [513.6805 ],\n",
              "       [467.91977],\n",
              "       [512.35266],\n",
              "       [471.61395],\n",
              "       [587.74164],\n",
              "       [471.43277],\n",
              "       [436.49417],\n",
              "       [532.4806 ],\n",
              "       [495.69916],\n",
              "       [642.22363],\n",
              "       [394.06073],\n",
              "       [546.33185],\n",
              "       [568.78217],\n",
              "       [441.9549 ],\n",
              "       [535.9413 ],\n",
              "       [581.46655],\n",
              "       [574.91907],\n",
              "       [688.1379 ],\n",
              "       [437.905  ],\n",
              "       [419.54736],\n",
              "       [347.9821 ],\n",
              "       [455.6038 ],\n",
              "       [415.3837 ],\n",
              "       [535.09357],\n",
              "       [519.94037],\n",
              "       [565.09467],\n",
              "       [458.771  ],\n",
              "       [533.7423 ],\n",
              "       [403.86124],\n",
              "       [504.85602],\n",
              "       [614.18414],\n",
              "       [506.67853],\n",
              "       [556.85706],\n",
              "       [473.6415 ],\n",
              "       [319.95056],\n",
              "       [513.2704 ],\n",
              "       [603.1785 ],\n",
              "       [375.7061 ],\n",
              "       [453.73438],\n",
              "       [498.1966 ],\n",
              "       [538.1773 ],\n",
              "       [600.5616 ],\n",
              "       [400.33063],\n",
              "       [451.96146],\n",
              "       [489.56055],\n",
              "       [583.0792 ],\n",
              "       [495.04834],\n",
              "       [351.52768],\n",
              "       [548.47266],\n",
              "       [456.05136],\n",
              "       [522.8218 ],\n",
              "       [500.44287],\n",
              "       [596.0742 ],\n",
              "       [436.3584 ],\n",
              "       [423.4651 ],\n",
              "       [477.74896],\n",
              "       [378.105  ],\n",
              "       [502.7948 ],\n",
              "       [675.4934 ],\n",
              "       [455.9342 ],\n",
              "       [508.109  ],\n",
              "       [556.1268 ],\n",
              "       [471.0197 ],\n",
              "       [517.1041 ],\n",
              "       [559.22675],\n",
              "       [594.1504 ],\n",
              "       [565.44574],\n",
              "       [487.42535],\n",
              "       [504.32266],\n",
              "       [395.5758 ],\n",
              "       [573.09576],\n",
              "       [458.61362],\n",
              "       [414.33795],\n",
              "       [629.07635],\n",
              "       [487.68884],\n",
              "       [575.33734],\n",
              "       [619.9688 ],\n",
              "       [429.74948],\n",
              "       [370.65314],\n",
              "       [441.39276],\n",
              "       [528.32043],\n",
              "       [451.78995],\n",
              "       [398.36484],\n",
              "       [496.37943],\n",
              "       [494.91983]], dtype=float32)"
            ]
          },
          "metadata": {
            "tags": []
          },
          "execution_count": 61
        }
      ]
    },
    {
      "cell_type": "code",
      "metadata": {
        "id": "sAG-a5M8PHd1"
      },
      "source": [
        "test_predictions = pd.Series(test_predictions.reshape(330,))\n"
      ],
      "execution_count": null,
      "outputs": []
    },
    {
      "cell_type": "code",
      "metadata": {
        "id": "hXXvCgjxSIbQ",
        "colab": {
          "base_uri": "https://localhost:8080/"
        },
        "outputId": "b1826bd3-02a8-4537-b644-4caa8039547d"
      },
      "source": [
        "test_predictions.shape"
      ],
      "execution_count": null,
      "outputs": [
        {
          "output_type": "execute_result",
          "data": {
            "text/plain": [
              "(330, 1)"
            ]
          },
          "metadata": {
            "tags": []
          },
          "execution_count": 63
        }
      ]
    },
    {
      "cell_type": "markdown",
      "metadata": {
        "id": "zWrwBtxIHCGF"
      },
      "source": [
        "**Choosing an optimizer and loss**\n",
        "\n",
        "keep in mind what kind of problem you are trying to solve:\n",
        "\n",
        "# For a multi-class classification problem\n",
        "model.compile(optimizer= 'rmsprop', loss='categorical_crossentropy', metrics=['accuracy')\n",
        "\n",
        "# For a binary classification problem\n",
        "model.compile(optimizer= 'rmsprop', loss='binary_crossentropy', metrics=['accuracy')\n",
        "\n",
        "# For a mean squarred regression problem\n",
        "model.compile(optimizer= 'rmsprop', loss='mse')"
      ]
    },
    {
      "cell_type": "code",
      "metadata": {
        "id": "asBGbUuAOeB-"
      },
      "source": [
        ""
      ],
      "execution_count": null,
      "outputs": []
    },
    {
      "cell_type": "code",
      "metadata": {
        "id": "nypj-poGMmAW"
      },
      "source": [
        ""
      ],
      "execution_count": null,
      "outputs": []
    },
    {
      "cell_type": "code",
      "metadata": {
        "id": "4KzW3GMeIE5U"
      },
      "source": [
        ""
      ],
      "execution_count": null,
      "outputs": []
    }
  ]
}