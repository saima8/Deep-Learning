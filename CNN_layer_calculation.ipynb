{
  "nbformat": 4,
  "nbformat_minor": 0,
  "metadata": {
    "colab": {
      "name": "CNN layer calculation.ipynb",
      "provenance": [],
      "authorship_tag": "ABX9TyM5DNxvcz4CzTnYco+/Eu94",
      "include_colab_link": true
    },
    "kernelspec": {
      "name": "python3",
      "display_name": "Python 3"
    },
    "language_info": {
      "name": "python"
    }
  },
  "cells": [
    {
      "cell_type": "markdown",
      "metadata": {
        "id": "view-in-github",
        "colab_type": "text"
      },
      "source": [
        "<a href=\"https://colab.research.google.com/github/saima8/Deep-Learning/blob/main/CNN_layer_calculation.ipynb\" target=\"_parent\"><img src=\"https://colab.research.google.com/assets/colab-badge.svg\" alt=\"Open In Colab\"/></a>"
      ]
    },
    {
      "cell_type": "markdown",
      "metadata": {
        "id": "UMkWsxLJn97f"
      },
      "source": [
        "# Question\n",
        "\n",
        "Consider a CNN composed of three convolutional layers, each with\n",
        "3 × 3 kernels, a stride of 2, and \"same\" padding. The lowest layer\n",
        "outputs 150 feature maps, the middle one outputs 300, and the top\n",
        "one outputs 600. The input images are RGB images of 226 × 226\n",
        "pixels. What is the total number of parameters in the CNN?\n",
        "\n",
        "If we are using 32-bit floats, at least how much RAM will this\n",
        "network require when making a prediction for a single instance?\n",
        "What about when training on a mini-batch of 32 images?"
      ]
    },
    {
      "cell_type": "markdown",
      "metadata": {
        "id": "86-ed48E5i8F"
      },
      "source": [
        "# First Convolution\n",
        "\n",
        "input = 113x113x3\n",
        "\n",
        "filter = 3x3x3\n",
        "\n",
        "num_filter = 3x3x3x150\n",
        "\n",
        "bias = 150"
      ]
    },
    {
      "cell_type": "code",
      "metadata": {
        "colab": {
          "base_uri": "https://localhost:8080/"
        },
        "id": "Rm20bEkQ6JxL",
        "outputId": "d7e9ab9b-9813-4837-ef06-f670fbe40772"
      },
      "source": [
        "3*3*3*150 + 150"
      ],
      "execution_count": null,
      "outputs": [
        {
          "output_type": "execute_result",
          "data": {
            "text/plain": [
              "4200"
            ]
          },
          "metadata": {},
          "execution_count": 1
        }
      ]
    },
    {
      "cell_type": "code",
      "metadata": {
        "colab": {
          "base_uri": "https://localhost:8080/"
        },
        "id": "ReBpGlI-Bzbx",
        "outputId": "723fad2a-9381-4717-a52c-788674153707"
      },
      "source": [
        "113*113*150*4"
      ],
      "execution_count": null,
      "outputs": [
        {
          "output_type": "execute_result",
          "data": {
            "text/plain": [
              "7661400"
            ]
          },
          "metadata": {},
          "execution_count": 8
        }
      ]
    },
    {
      "cell_type": "markdown",
      "metadata": {
        "id": "ZUr1FMzQC22c"
      },
      "source": [
        "# 8 MB"
      ]
    },
    {
      "cell_type": "markdown",
      "metadata": {
        "id": "q7BSOZFS6qk-"
      },
      "source": [
        "# Second Convolution\n",
        "\n",
        "input = 57x57x150\n",
        "\n",
        "filter = 3x3x150\n",
        "\n",
        "num_filter = 300\n",
        "\n",
        "total = 3x3x150x300\n",
        "\n",
        "bias = 300"
      ]
    },
    {
      "cell_type": "code",
      "metadata": {
        "colab": {
          "base_uri": "https://localhost:8080/"
        },
        "id": "6Zff_uzN6Ovs",
        "outputId": "1032f789-0c9a-4afc-8791-c9fb7b4efc9b"
      },
      "source": [
        "3*3*150*300 + 300"
      ],
      "execution_count": null,
      "outputs": [
        {
          "output_type": "execute_result",
          "data": {
            "text/plain": [
              "405300"
            ]
          },
          "metadata": {},
          "execution_count": 3
        }
      ]
    },
    {
      "cell_type": "code",
      "metadata": {
        "colab": {
          "base_uri": "https://localhost:8080/"
        },
        "id": "jmc4AhyBDKRQ",
        "outputId": "484e5832-f7aa-41cf-caa7-8802b3ddda46"
      },
      "source": [
        "57*57*300*4"
      ],
      "execution_count": null,
      "outputs": [
        {
          "output_type": "execute_result",
          "data": {
            "text/plain": [
              "3898800"
            ]
          },
          "metadata": {},
          "execution_count": 9
        }
      ]
    },
    {
      "cell_type": "markdown",
      "metadata": {
        "id": "zetfIGZfDZWy"
      },
      "source": [
        "# 4 MB"
      ]
    },
    {
      "cell_type": "markdown",
      "metadata": {
        "id": "GRCrgZrY7TNI"
      },
      "source": [
        "# Third Convolution\n",
        "\n",
        "input = 29x29x300\n",
        "\n",
        "filter = 3x3x300\n",
        "\n",
        "num_filter = 600\n",
        "\n",
        "total = 3x3x300x600\n",
        "\n",
        "bias = 600"
      ]
    },
    {
      "cell_type": "code",
      "metadata": {
        "colab": {
          "base_uri": "https://localhost:8080/"
        },
        "id": "olaF-B-p7Mqn",
        "outputId": "a2ccf3e5-1925-4f42-86c7-d34135f69599"
      },
      "source": [
        "3*3*300*600 + 600"
      ],
      "execution_count": null,
      "outputs": [
        {
          "output_type": "execute_result",
          "data": {
            "text/plain": [
              "1620600"
            ]
          },
          "metadata": {},
          "execution_count": 4
        }
      ]
    },
    {
      "cell_type": "code",
      "metadata": {
        "colab": {
          "base_uri": "https://localhost:8080/"
        },
        "id": "ofZAsMxNDkn6",
        "outputId": "26488ce3-3945-415e-f5b7-3cc65a7f63af"
      },
      "source": [
        "29*29*600*4"
      ],
      "execution_count": null,
      "outputs": [
        {
          "output_type": "execute_result",
          "data": {
            "text/plain": [
              "2018400"
            ]
          },
          "metadata": {},
          "execution_count": 10
        }
      ]
    },
    {
      "cell_type": "markdown",
      "metadata": {
        "id": "21OtenFtDo03"
      },
      "source": [
        "# 2 MB"
      ]
    },
    {
      "cell_type": "code",
      "metadata": {
        "colab": {
          "base_uri": "https://localhost:8080/"
        },
        "id": "4ttvn--j7o95",
        "outputId": "42614496-4bfc-4bbe-d725-635db7980f60"
      },
      "source": [
        "Total_Parameters = 4200 + 405300 + 1620600\n",
        "print(Total_Parameters)"
      ],
      "execution_count": null,
      "outputs": [
        {
          "output_type": "stream",
          "name": "stdout",
          "text": [
            "2030100\n"
          ]
        }
      ]
    },
    {
      "cell_type": "markdown",
      "metadata": {
        "id": "8Hwbw-bTD47s"
      },
      "source": [
        "# Final"
      ]
    },
    {
      "cell_type": "code",
      "metadata": {
        "colab": {
          "base_uri": "https://localhost:8080/"
        },
        "id": "4BxcjmmZ744D",
        "outputId": "d5162249-a42a-49a4-d4fb-96c671bdba58"
      },
      "source": [
        "2030100*4"
      ],
      "execution_count": null,
      "outputs": [
        {
          "output_type": "execute_result",
          "data": {
            "text/plain": [
              "8120400"
            ]
          },
          "metadata": {},
          "execution_count": 11
        }
      ]
    },
    {
      "cell_type": "code",
      "metadata": {
        "colab": {
          "base_uri": "https://localhost:8080/"
        },
        "id": "jglYTFAiEDLw",
        "outputId": "57d2eb60-b1fd-4cca-c67e-8615f56dec74"
      },
      "source": [
        "# Memory of pedicting 1 image\n",
        "8120400 + 2018400 + 3898800 + 7661400"
      ],
      "execution_count": null,
      "outputs": [
        {
          "output_type": "execute_result",
          "data": {
            "text/plain": [
              "21699000"
            ]
          },
          "metadata": {},
          "execution_count": 16
        }
      ]
    },
    {
      "cell_type": "code",
      "metadata": {
        "colab": {
          "base_uri": "https://localhost:8080/"
        },
        "id": "pnjRcjONEPCs",
        "outputId": "5da4126c-1929-4414-e7ab-e34d1d313541"
      },
      "source": [
        "# for 32 images \n",
        "21699000 * 32"
      ],
      "execution_count": null,
      "outputs": [
        {
          "output_type": "execute_result",
          "data": {
            "text/plain": [
              "694368000"
            ]
          },
          "metadata": {},
          "execution_count": 14
        }
      ]
    },
    {
      "cell_type": "code",
      "metadata": {
        "colab": {
          "base_uri": "https://localhost:8080/"
        },
        "id": "V7EQO1XoEb49",
        "outputId": "68b723ca-374b-4994-c903-427efeccf6c0"
      },
      "source": [
        "#size of 32 images\n",
        "(32*226*226*3*4) \n"
      ],
      "execution_count": null,
      "outputs": [
        {
          "output_type": "execute_result",
          "data": {
            "text/plain": [
              "19613184"
            ]
          },
          "metadata": {},
          "execution_count": 17
        }
      ]
    },
    {
      "cell_type": "code",
      "metadata": {
        "colab": {
          "base_uri": "https://localhost:8080/"
        },
        "id": "ZxckGEb3FGgA",
        "outputId": "3a57b699-1dab-4dc7-9ecb-7186162d0ce8"
      },
      "source": [
        "19613184 + 8120400 +  (2018400 + 3898800 + 7661400)*32"
      ],
      "execution_count": null,
      "outputs": [
        {
          "output_type": "execute_result",
          "data": {
            "text/plain": [
              "462248784"
            ]
          },
          "metadata": {},
          "execution_count": 18
        }
      ]
    },
    {
      "cell_type": "code",
      "metadata": {
        "id": "xYm57monF40H"
      },
      "source": [
        ""
      ],
      "execution_count": null,
      "outputs": []
    }
  ]
}